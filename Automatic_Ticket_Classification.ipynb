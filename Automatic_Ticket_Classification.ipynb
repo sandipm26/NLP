{
 "cells": [
  {
   "cell_type": "markdown",
   "metadata": {
    "id": "rhR-ZUkwJrFn"
   },
   "source": [
    "## Problem Statement \n",
    "\n",
    "You need to build a model that is able to classify customer complaints based on the products/services. By doing so, you can segregate these tickets into their relevant categories and, therefore, help in the quick resolution of the issue.\n",
    "\n",
    "You will be doing topic modelling on the <b>.json</b> data provided by the company. Since this data is not labelled, you need to apply NMF to analyse patterns and classify tickets into the following five clusters based on their products/services:\n",
    "\n",
    "* Credit card / Prepaid card\n",
    "\n",
    "* Bank account services\n",
    "\n",
    "* Theft/Dispute reporting\n",
    "\n",
    "* Mortgages/loans\n",
    "\n",
    "* Others \n",
    "\n",
    "\n",
    "With the help of topic modelling, you will be able to map each ticket onto its respective department/category. You can then use this data to train any supervised model such as logistic regression, decision tree or random forest. Using this trained model, you can classify any new customer complaint support ticket into its relevant department."
   ]
  },
  {
   "cell_type": "markdown",
   "metadata": {
    "id": "mcgXVNyaLUFS"
   },
   "source": [
    "## Pipelines that needs to be performed:\n",
    "\n",
    "You need to perform the following eight major tasks to complete the assignment:\n",
    "\n",
    "1.  Data loading\n",
    "\n",
    "2. Text preprocessing\n",
    "\n",
    "3. Exploratory data analysis (EDA)\n",
    "\n",
    "4. Feature extraction\n",
    "\n",
    "5. Topic modelling \n",
    "\n",
    "6. Model building using supervised learning\n",
    "\n",
    "7. Model training and evaluation\n",
    "\n",
    "8. Model inference"
   ]
  },
  {
   "cell_type": "markdown",
   "metadata": {
    "id": "JuLFIymAL58u"
   },
   "source": [
    "## Importing the necessary libraries"
   ]
  },
  {
   "cell_type": "code",
   "execution_count": 1,
   "metadata": {
    "id": "O-Q9pqrcJrFr"
   },
   "outputs": [],
   "source": [
    "import json \n",
    "import numpy as np\n",
    "import pandas as pd\n",
    "import re, nltk, spacy, string\n",
    "import en_core_web_sm\n",
    "nlp = en_core_web_sm.load()\n",
    "import seaborn as sns\n",
    "import matplotlib.pyplot as plt\n",
    "%matplotlib inline\n",
    "\n",
    "from plotly.offline import plot\n",
    "import plotly.graph_objects as go\n",
    "import plotly.express as px\n",
    "\n",
    "from sklearn.feature_extraction.text import CountVectorizer, TfidfVectorizer,TfidfTransformer\n",
    "from sklearn.model_selection import RandomizedSearchCV, GridSearchCV\n",
    "from sklearn.metrics import confusion_matrix,classification_report\n",
    "from pprint import pprint\n",
    "from nltk.tokenize import word_tokenize\n",
    "from nltk.tag import pos_tag"
   ]
  },
  {
   "cell_type": "markdown",
   "metadata": {
    "id": "KtRLCsNVJrFt"
   },
   "source": [
    "## Loading the data\n",
    "\n",
    "The data is in JSON format and we need to convert it to a dataframe."
   ]
  },
  {
   "cell_type": "code",
   "execution_count": 2,
   "metadata": {
    "id": "puVzIf_iJrFt"
   },
   "outputs": [],
   "source": [
    "# Opening JSON file \n",
    "f = open('complaints-2021-05-14_08_16.json') \n",
    "  \n",
    "# returns JSON object as a dictionary \n",
    "data = json.load(f)\n",
    "df=pd.json_normalize(data)"
   ]
  },
  {
   "cell_type": "markdown",
   "metadata": {
    "id": "_xYpH-sAJrFu"
   },
   "source": [
    "## Data preparation"
   ]
  },
  {
   "cell_type": "code",
   "execution_count": 3,
   "metadata": {
    "id": "Lf8ufHH5JrFu"
   },
   "outputs": [
    {
     "name": "stdout",
     "output_type": "stream",
     "text": [
      "<class 'pandas.core.frame.DataFrame'>\n",
      "RangeIndex: 78313 entries, 0 to 78312\n",
      "Data columns (total 22 columns):\n",
      " #   Column                             Non-Null Count  Dtype  \n",
      "---  ------                             --------------  -----  \n",
      " 0   _index                             78313 non-null  object \n",
      " 1   _type                              78313 non-null  object \n",
      " 2   _id                                78313 non-null  object \n",
      " 3   _score                             78313 non-null  float64\n",
      " 4   _source.tags                       10900 non-null  object \n",
      " 5   _source.zip_code                   71556 non-null  object \n",
      " 6   _source.complaint_id               78313 non-null  object \n",
      " 7   _source.issue                      78313 non-null  object \n",
      " 8   _source.date_received              78313 non-null  object \n",
      " 9   _source.state                      76322 non-null  object \n",
      " 10  _source.consumer_disputed          78313 non-null  object \n",
      " 11  _source.product                    78313 non-null  object \n",
      " 12  _source.company_response           78313 non-null  object \n",
      " 13  _source.company                    78313 non-null  object \n",
      " 14  _source.submitted_via              78313 non-null  object \n",
      " 15  _source.date_sent_to_company       78313 non-null  object \n",
      " 16  _source.company_public_response    4 non-null      object \n",
      " 17  _source.sub_product                67742 non-null  object \n",
      " 18  _source.timely                     78313 non-null  object \n",
      " 19  _source.complaint_what_happened    78313 non-null  object \n",
      " 20  _source.sub_issue                  32016 non-null  object \n",
      " 21  _source.consumer_consent_provided  77305 non-null  object \n",
      "dtypes: float64(1), object(21)\n",
      "memory usage: 13.1+ MB\n"
     ]
    }
   ],
   "source": [
    "# Inspect the dataframe to understand the given data.\n",
    "df.info()"
   ]
  },
  {
   "cell_type": "code",
   "execution_count": 4,
   "metadata": {},
   "outputs": [
    {
     "data": {
      "text/html": [
       "<div>\n",
       "<style scoped>\n",
       "    .dataframe tbody tr th:only-of-type {\n",
       "        vertical-align: middle;\n",
       "    }\n",
       "\n",
       "    .dataframe tbody tr th {\n",
       "        vertical-align: top;\n",
       "    }\n",
       "\n",
       "    .dataframe thead th {\n",
       "        text-align: right;\n",
       "    }\n",
       "</style>\n",
       "<table border=\"1\" class=\"dataframe\">\n",
       "  <thead>\n",
       "    <tr style=\"text-align: right;\">\n",
       "      <th></th>\n",
       "      <th>_index</th>\n",
       "      <th>_type</th>\n",
       "      <th>_id</th>\n",
       "      <th>_score</th>\n",
       "      <th>_source.tags</th>\n",
       "      <th>_source.zip_code</th>\n",
       "      <th>_source.complaint_id</th>\n",
       "      <th>_source.issue</th>\n",
       "      <th>_source.date_received</th>\n",
       "      <th>_source.state</th>\n",
       "      <th>...</th>\n",
       "      <th>_source.company_response</th>\n",
       "      <th>_source.company</th>\n",
       "      <th>_source.submitted_via</th>\n",
       "      <th>_source.date_sent_to_company</th>\n",
       "      <th>_source.company_public_response</th>\n",
       "      <th>_source.sub_product</th>\n",
       "      <th>_source.timely</th>\n",
       "      <th>_source.complaint_what_happened</th>\n",
       "      <th>_source.sub_issue</th>\n",
       "      <th>_source.consumer_consent_provided</th>\n",
       "    </tr>\n",
       "  </thead>\n",
       "  <tbody>\n",
       "    <tr>\n",
       "      <th>0</th>\n",
       "      <td>complaint-public-v2</td>\n",
       "      <td>complaint</td>\n",
       "      <td>3211475</td>\n",
       "      <td>0.0</td>\n",
       "      <td>None</td>\n",
       "      <td>90301</td>\n",
       "      <td>3211475</td>\n",
       "      <td>Attempts to collect debt not owed</td>\n",
       "      <td>2019-04-13T12:00:00-05:00</td>\n",
       "      <td>CA</td>\n",
       "      <td>...</td>\n",
       "      <td>Closed with explanation</td>\n",
       "      <td>JPMORGAN CHASE &amp; CO.</td>\n",
       "      <td>Web</td>\n",
       "      <td>2019-04-13T12:00:00-05:00</td>\n",
       "      <td>None</td>\n",
       "      <td>Credit card debt</td>\n",
       "      <td>Yes</td>\n",
       "      <td></td>\n",
       "      <td>Debt is not yours</td>\n",
       "      <td>Consent not provided</td>\n",
       "    </tr>\n",
       "    <tr>\n",
       "      <th>1</th>\n",
       "      <td>complaint-public-v2</td>\n",
       "      <td>complaint</td>\n",
       "      <td>3229299</td>\n",
       "      <td>0.0</td>\n",
       "      <td>Servicemember</td>\n",
       "      <td>319XX</td>\n",
       "      <td>3229299</td>\n",
       "      <td>Written notification about debt</td>\n",
       "      <td>2019-05-01T12:00:00-05:00</td>\n",
       "      <td>GA</td>\n",
       "      <td>...</td>\n",
       "      <td>Closed with explanation</td>\n",
       "      <td>JPMORGAN CHASE &amp; CO.</td>\n",
       "      <td>Web</td>\n",
       "      <td>2019-05-01T12:00:00-05:00</td>\n",
       "      <td>None</td>\n",
       "      <td>Credit card debt</td>\n",
       "      <td>Yes</td>\n",
       "      <td>Good morning my name is XXXX XXXX and I apprec...</td>\n",
       "      <td>Didn't receive enough information to verify debt</td>\n",
       "      <td>Consent provided</td>\n",
       "    </tr>\n",
       "    <tr>\n",
       "      <th>2</th>\n",
       "      <td>complaint-public-v2</td>\n",
       "      <td>complaint</td>\n",
       "      <td>3199379</td>\n",
       "      <td>0.0</td>\n",
       "      <td>None</td>\n",
       "      <td>77069</td>\n",
       "      <td>3199379</td>\n",
       "      <td>Other features, terms, or problems</td>\n",
       "      <td>2019-04-02T12:00:00-05:00</td>\n",
       "      <td>TX</td>\n",
       "      <td>...</td>\n",
       "      <td>Closed with explanation</td>\n",
       "      <td>JPMORGAN CHASE &amp; CO.</td>\n",
       "      <td>Web</td>\n",
       "      <td>2019-04-02T12:00:00-05:00</td>\n",
       "      <td>None</td>\n",
       "      <td>General-purpose credit card or charge card</td>\n",
       "      <td>Yes</td>\n",
       "      <td>I upgraded my XXXX XXXX card in XX/XX/2018 and...</td>\n",
       "      <td>Problem with rewards from credit card</td>\n",
       "      <td>Consent provided</td>\n",
       "    </tr>\n",
       "    <tr>\n",
       "      <th>3</th>\n",
       "      <td>complaint-public-v2</td>\n",
       "      <td>complaint</td>\n",
       "      <td>2673060</td>\n",
       "      <td>0.0</td>\n",
       "      <td>None</td>\n",
       "      <td>48066</td>\n",
       "      <td>2673060</td>\n",
       "      <td>Trouble during payment process</td>\n",
       "      <td>2017-09-13T12:00:00-05:00</td>\n",
       "      <td>MI</td>\n",
       "      <td>...</td>\n",
       "      <td>Closed with explanation</td>\n",
       "      <td>JPMORGAN CHASE &amp; CO.</td>\n",
       "      <td>Web</td>\n",
       "      <td>2017-09-14T12:00:00-05:00</td>\n",
       "      <td>None</td>\n",
       "      <td>Conventional home mortgage</td>\n",
       "      <td>Yes</td>\n",
       "      <td></td>\n",
       "      <td>None</td>\n",
       "      <td>Consent not provided</td>\n",
       "    </tr>\n",
       "    <tr>\n",
       "      <th>4</th>\n",
       "      <td>complaint-public-v2</td>\n",
       "      <td>complaint</td>\n",
       "      <td>3203545</td>\n",
       "      <td>0.0</td>\n",
       "      <td>None</td>\n",
       "      <td>10473</td>\n",
       "      <td>3203545</td>\n",
       "      <td>Fees or interest</td>\n",
       "      <td>2019-04-05T12:00:00-05:00</td>\n",
       "      <td>NY</td>\n",
       "      <td>...</td>\n",
       "      <td>Closed with explanation</td>\n",
       "      <td>JPMORGAN CHASE &amp; CO.</td>\n",
       "      <td>Referral</td>\n",
       "      <td>2019-04-05T12:00:00-05:00</td>\n",
       "      <td>None</td>\n",
       "      <td>General-purpose credit card or charge card</td>\n",
       "      <td>Yes</td>\n",
       "      <td></td>\n",
       "      <td>Charged too much interest</td>\n",
       "      <td>N/A</td>\n",
       "    </tr>\n",
       "  </tbody>\n",
       "</table>\n",
       "<p>5 rows × 22 columns</p>\n",
       "</div>"
      ],
      "text/plain": [
       "                _index      _type      _id  _score   _source.tags  \\\n",
       "0  complaint-public-v2  complaint  3211475     0.0           None   \n",
       "1  complaint-public-v2  complaint  3229299     0.0  Servicemember   \n",
       "2  complaint-public-v2  complaint  3199379     0.0           None   \n",
       "3  complaint-public-v2  complaint  2673060     0.0           None   \n",
       "4  complaint-public-v2  complaint  3203545     0.0           None   \n",
       "\n",
       "  _source.zip_code _source.complaint_id                       _source.issue  \\\n",
       "0            90301              3211475   Attempts to collect debt not owed   \n",
       "1            319XX              3229299     Written notification about debt   \n",
       "2            77069              3199379  Other features, terms, or problems   \n",
       "3            48066              2673060      Trouble during payment process   \n",
       "4            10473              3203545                    Fees or interest   \n",
       "\n",
       "       _source.date_received _source.state  ... _source.company_response  \\\n",
       "0  2019-04-13T12:00:00-05:00            CA  ...  Closed with explanation   \n",
       "1  2019-05-01T12:00:00-05:00            GA  ...  Closed with explanation   \n",
       "2  2019-04-02T12:00:00-05:00            TX  ...  Closed with explanation   \n",
       "3  2017-09-13T12:00:00-05:00            MI  ...  Closed with explanation   \n",
       "4  2019-04-05T12:00:00-05:00            NY  ...  Closed with explanation   \n",
       "\n",
       "        _source.company _source.submitted_via _source.date_sent_to_company  \\\n",
       "0  JPMORGAN CHASE & CO.                   Web    2019-04-13T12:00:00-05:00   \n",
       "1  JPMORGAN CHASE & CO.                   Web    2019-05-01T12:00:00-05:00   \n",
       "2  JPMORGAN CHASE & CO.                   Web    2019-04-02T12:00:00-05:00   \n",
       "3  JPMORGAN CHASE & CO.                   Web    2017-09-14T12:00:00-05:00   \n",
       "4  JPMORGAN CHASE & CO.              Referral    2019-04-05T12:00:00-05:00   \n",
       "\n",
       "  _source.company_public_response                         _source.sub_product  \\\n",
       "0                            None                            Credit card debt   \n",
       "1                            None                            Credit card debt   \n",
       "2                            None  General-purpose credit card or charge card   \n",
       "3                            None                  Conventional home mortgage   \n",
       "4                            None  General-purpose credit card or charge card   \n",
       "\n",
       "  _source.timely                    _source.complaint_what_happened  \\\n",
       "0            Yes                                                      \n",
       "1            Yes  Good morning my name is XXXX XXXX and I apprec...   \n",
       "2            Yes  I upgraded my XXXX XXXX card in XX/XX/2018 and...   \n",
       "3            Yes                                                      \n",
       "4            Yes                                                      \n",
       "\n",
       "                                  _source.sub_issue  \\\n",
       "0                                 Debt is not yours   \n",
       "1  Didn't receive enough information to verify debt   \n",
       "2             Problem with rewards from credit card   \n",
       "3                                              None   \n",
       "4                         Charged too much interest   \n",
       "\n",
       "  _source.consumer_consent_provided  \n",
       "0              Consent not provided  \n",
       "1                  Consent provided  \n",
       "2                  Consent provided  \n",
       "3              Consent not provided  \n",
       "4                               N/A  \n",
       "\n",
       "[5 rows x 22 columns]"
      ]
     },
     "execution_count": 4,
     "metadata": {},
     "output_type": "execute_result"
    }
   ],
   "source": [
    "df.head()"
   ]
  },
  {
   "cell_type": "code",
   "execution_count": 5,
   "metadata": {
    "id": "Dwcty-wmJrFw"
   },
   "outputs": [
    {
     "name": "stdout",
     "output_type": "stream",
     "text": [
      "Index(['_index', '_type', '_id', '_score', '_source.tags', '_source.zip_code',\n",
      "       '_source.complaint_id', '_source.issue', '_source.date_received',\n",
      "       '_source.state', '_source.consumer_disputed', '_source.product',\n",
      "       '_source.company_response', '_source.company', '_source.submitted_via',\n",
      "       '_source.date_sent_to_company', '_source.company_public_response',\n",
      "       '_source.sub_product', '_source.timely',\n",
      "       '_source.complaint_what_happened', '_source.sub_issue',\n",
      "       '_source.consumer_consent_provided'],\n",
      "      dtype='object')\n"
     ]
    }
   ],
   "source": [
    "#print the column names\n",
    "print(df.columns)"
   ]
  },
  {
   "cell_type": "code",
   "execution_count": 6,
   "metadata": {
    "id": "FYCtKXD1JrFw"
   },
   "outputs": [],
   "source": [
    "#Assign new column names\n",
    "df.columns = ['index', 'type', 'id', 'score', 'tags', 'zip_code','complaint_id', 'issue', 'date_received',\n",
    "       'state', 'consumer_disputed', 'product','company_response', 'company', 'submitted_via',\n",
    "       'date_sent_to_company', 'company_public_response','sub_product', 'timely',\n",
    "       'complaint_what_happened', 'sub_issue','consumer_consent_provided']"
   ]
  },
  {
   "cell_type": "code",
   "execution_count": 7,
   "metadata": {
    "id": "grQUPFL5JrFx"
   },
   "outputs": [],
   "source": [
    "#Assign nan in place of blanks in the complaints column\n",
    "df['complaint_what_happened'] = df['complaint_what_happened'].replace('',np.nan)"
   ]
  },
  {
   "cell_type": "code",
   "execution_count": 8,
   "metadata": {},
   "outputs": [
    {
     "data": {
      "text/html": [
       "<div>\n",
       "<style scoped>\n",
       "    .dataframe tbody tr th:only-of-type {\n",
       "        vertical-align: middle;\n",
       "    }\n",
       "\n",
       "    .dataframe tbody tr th {\n",
       "        vertical-align: top;\n",
       "    }\n",
       "\n",
       "    .dataframe thead th {\n",
       "        text-align: right;\n",
       "    }\n",
       "</style>\n",
       "<table border=\"1\" class=\"dataframe\">\n",
       "  <thead>\n",
       "    <tr style=\"text-align: right;\">\n",
       "      <th></th>\n",
       "      <th>index</th>\n",
       "      <th>type</th>\n",
       "      <th>id</th>\n",
       "      <th>score</th>\n",
       "      <th>tags</th>\n",
       "      <th>zip_code</th>\n",
       "      <th>complaint_id</th>\n",
       "      <th>issue</th>\n",
       "      <th>date_received</th>\n",
       "      <th>state</th>\n",
       "      <th>...</th>\n",
       "      <th>company_response</th>\n",
       "      <th>company</th>\n",
       "      <th>submitted_via</th>\n",
       "      <th>date_sent_to_company</th>\n",
       "      <th>company_public_response</th>\n",
       "      <th>sub_product</th>\n",
       "      <th>timely</th>\n",
       "      <th>complaint_what_happened</th>\n",
       "      <th>sub_issue</th>\n",
       "      <th>consumer_consent_provided</th>\n",
       "    </tr>\n",
       "  </thead>\n",
       "  <tbody>\n",
       "  </tbody>\n",
       "</table>\n",
       "<p>0 rows × 22 columns</p>\n",
       "</div>"
      ],
      "text/plain": [
       "Empty DataFrame\n",
       "Columns: [index, type, id, score, tags, zip_code, complaint_id, issue, date_received, state, consumer_disputed, product, company_response, company, submitted_via, date_sent_to_company, company_public_response, sub_product, timely, complaint_what_happened, sub_issue, consumer_consent_provided]\n",
       "Index: []\n",
       "\n",
       "[0 rows x 22 columns]"
      ]
     },
     "execution_count": 8,
     "metadata": {},
     "output_type": "execute_result"
    }
   ],
   "source": [
    "# Check if blank values still exist\n",
    "df[df['complaint_what_happened']=='']"
   ]
  },
  {
   "cell_type": "code",
   "execution_count": 9,
   "metadata": {},
   "outputs": [
    {
     "data": {
      "text/plain": [
       "(78313, 22)"
      ]
     },
     "execution_count": 9,
     "metadata": {},
     "output_type": "execute_result"
    }
   ],
   "source": [
    "df.shape"
   ]
  },
  {
   "cell_type": "code",
   "execution_count": 10,
   "metadata": {
    "id": "Jfxd8VSmJrFy"
   },
   "outputs": [],
   "source": [
    "#Remove all rows where complaints column is nan\n",
    "df = df[~df['complaint_what_happened'].isnull()]"
   ]
  },
  {
   "cell_type": "code",
   "execution_count": 11,
   "metadata": {},
   "outputs": [
    {
     "data": {
      "text/plain": [
       "(21072, 22)"
      ]
     },
     "execution_count": 11,
     "metadata": {},
     "output_type": "execute_result"
    }
   ],
   "source": [
    "df.shape"
   ]
  },
  {
   "cell_type": "markdown",
   "metadata": {
    "id": "L944HZpsJrFy"
   },
   "source": [
    "## Prepare the text for topic modeling\n",
    "\n",
    "Once you have removed all the blank complaints, you need to:\n",
    "\n",
    "* Make the text lowercase\n",
    "* Remove text in square brackets\n",
    "* Remove punctuation\n",
    "* Remove words containing numbers\n",
    "\n",
    "\n",
    "Once you have done these cleaning operations you need to perform the following:\n",
    "* Lemmatize the texts\n",
    "* Extract the POS tags of the lemmatized text and remove all the words which have tags other than NN[tag == \"NN\"].\n"
   ]
  },
  {
   "cell_type": "code",
   "execution_count": 12,
   "metadata": {
    "id": "qm7SjjSkJrFz"
   },
   "outputs": [],
   "source": [
    "# Write your function here to clean the text and remove all the unnecessary elements.\n",
    "def clean_text(text):\n",
    "    text = text.lower() # Text to lowercase\n",
    "    pattern = '[\\[\\]]'\n",
    "    text = re.sub(pattern, '', text)\n",
    "    pattern = '[^\\w\\s]' # Removing punctuation\n",
    "    text = re.sub(pattern, '', text) \n",
    "    pattern = '\\w*\\d\\w*' # Removing words with numbers in between\n",
    "    text = re.sub(pattern, '', text) \n",
    "    return text"
   ]
  },
  {
   "cell_type": "code",
   "execution_count": 13,
   "metadata": {},
   "outputs": [],
   "source": [
    "df_clean = pd.DataFrame(df['complaint_what_happened'].apply(clean_text))"
   ]
  },
  {
   "cell_type": "code",
   "execution_count": 14,
   "metadata": {},
   "outputs": [
    {
     "data": {
      "text/plain": [
       "1     good morning my name is xxxx xxxx and i apprec...\n",
       "2     i upgraded my xxxx xxxx card in  and was told ...\n",
       "10    chase card was reported on  however fraudulent...\n",
       "11    on  while trying to book a xxxx  xxxx  ticket ...\n",
       "14    my grand son give me check for  i deposit it i...\n",
       "Name: complaint_what_happened, dtype: object"
      ]
     },
     "execution_count": 14,
     "metadata": {},
     "output_type": "execute_result"
    }
   ],
   "source": [
    "df_clean['complaint_what_happened'].head()"
   ]
  },
  {
   "cell_type": "code",
   "execution_count": 15,
   "metadata": {},
   "outputs": [
    {
     "data": {
      "text/plain": [
       "1     Good morning my name is XXXX XXXX and I apprec...\n",
       "2     I upgraded my XXXX XXXX card in XX/XX/2018 and...\n",
       "10    Chase Card was reported on XX/XX/2019. However...\n",
       "11    On XX/XX/2018, while trying to book a XXXX  XX...\n",
       "14    my grand son give me check for {$1600.00} i de...\n",
       "Name: complaint_what_happened, dtype: object"
      ]
     },
     "execution_count": 15,
     "metadata": {},
     "output_type": "execute_result"
    }
   ],
   "source": [
    "df['complaint_what_happened'].head()"
   ]
  },
  {
   "cell_type": "code",
   "execution_count": 16,
   "metadata": {
    "id": "zgOu8t8HJrFz"
   },
   "outputs": [],
   "source": [
    "#Write your function to Lemmatize the texts\n",
    "def lemmmatize_text(text):\n",
    "    complaint = []\n",
    "    doc = nlp(text)\n",
    "    for token in doc:\n",
    "        complaint.append(token.lemma_)\n",
    "    return \" \".join(complaint)"
   ]
  },
  {
   "cell_type": "code",
   "execution_count": 17,
   "metadata": {
    "id": "uXnN7aa_JrF0"
   },
   "outputs": [],
   "source": [
    "#Create a dataframe('df_clean') that will have only the complaints and the lemmatized complaints \n",
    "df_clean['lemmatized_complaint'] = df_clean['complaint_what_happened'].apply(lemmmatize_text)"
   ]
  },
  {
   "cell_type": "code",
   "execution_count": 18,
   "metadata": {
    "id": "nOiDVvEIJrF0"
   },
   "outputs": [
    {
     "data": {
      "text/html": [
       "<div>\n",
       "<style scoped>\n",
       "    .dataframe tbody tr th:only-of-type {\n",
       "        vertical-align: middle;\n",
       "    }\n",
       "\n",
       "    .dataframe tbody tr th {\n",
       "        vertical-align: top;\n",
       "    }\n",
       "\n",
       "    .dataframe thead th {\n",
       "        text-align: right;\n",
       "    }\n",
       "</style>\n",
       "<table border=\"1\" class=\"dataframe\">\n",
       "  <thead>\n",
       "    <tr style=\"text-align: right;\">\n",
       "      <th></th>\n",
       "      <th>complaint_what_happened</th>\n",
       "      <th>lemmatized_complaint</th>\n",
       "    </tr>\n",
       "  </thead>\n",
       "  <tbody>\n",
       "    <tr>\n",
       "      <th>1</th>\n",
       "      <td>good morning my name is xxxx xxxx and i apprec...</td>\n",
       "      <td>good morning my name be xxxx xxxx and I apprec...</td>\n",
       "    </tr>\n",
       "    <tr>\n",
       "      <th>2</th>\n",
       "      <td>i upgraded my xxxx xxxx card in  and was told ...</td>\n",
       "      <td>I upgrade my xxxx xxxx card in   and be tell b...</td>\n",
       "    </tr>\n",
       "    <tr>\n",
       "      <th>10</th>\n",
       "      <td>chase card was reported on  however fraudulent...</td>\n",
       "      <td>chase card be report on   however fraudulent a...</td>\n",
       "    </tr>\n",
       "    <tr>\n",
       "      <th>11</th>\n",
       "      <td>on  while trying to book a xxxx  xxxx  ticket ...</td>\n",
       "      <td>on   while try to book a xxxx   xxxx   ticket ...</td>\n",
       "    </tr>\n",
       "    <tr>\n",
       "      <th>14</th>\n",
       "      <td>my grand son give me check for  i deposit it i...</td>\n",
       "      <td>my grand son give I check for   I deposit it i...</td>\n",
       "    </tr>\n",
       "    <tr>\n",
       "      <th>...</th>\n",
       "      <td>...</td>\n",
       "      <td>...</td>\n",
       "    </tr>\n",
       "    <tr>\n",
       "      <th>78303</th>\n",
       "      <td>after being a chase card customer for well ove...</td>\n",
       "      <td>after be a chase card customer for well over a...</td>\n",
       "    </tr>\n",
       "    <tr>\n",
       "      <th>78309</th>\n",
       "      <td>on wednesday xxxxxxxx i called chas my xxxx xx...</td>\n",
       "      <td>on wednesday xxxxxxxx I call chas my xxxx xxxx...</td>\n",
       "    </tr>\n",
       "    <tr>\n",
       "      <th>78310</th>\n",
       "      <td>i am not familiar with xxxx pay and did not un...</td>\n",
       "      <td>I be not familiar with xxxx pay and do not und...</td>\n",
       "    </tr>\n",
       "    <tr>\n",
       "      <th>78311</th>\n",
       "      <td>i have had flawless credit for  yrs ive had ch...</td>\n",
       "      <td>I have have flawless credit for   yrs I ve hav...</td>\n",
       "    </tr>\n",
       "    <tr>\n",
       "      <th>78312</th>\n",
       "      <td>roughly  years ago i closed out my accounts wi...</td>\n",
       "      <td>roughly   year ago I close out my account with...</td>\n",
       "    </tr>\n",
       "  </tbody>\n",
       "</table>\n",
       "<p>21072 rows × 2 columns</p>\n",
       "</div>"
      ],
      "text/plain": [
       "                                 complaint_what_happened  \\\n",
       "1      good morning my name is xxxx xxxx and i apprec...   \n",
       "2      i upgraded my xxxx xxxx card in  and was told ...   \n",
       "10     chase card was reported on  however fraudulent...   \n",
       "11     on  while trying to book a xxxx  xxxx  ticket ...   \n",
       "14     my grand son give me check for  i deposit it i...   \n",
       "...                                                  ...   \n",
       "78303  after being a chase card customer for well ove...   \n",
       "78309  on wednesday xxxxxxxx i called chas my xxxx xx...   \n",
       "78310  i am not familiar with xxxx pay and did not un...   \n",
       "78311  i have had flawless credit for  yrs ive had ch...   \n",
       "78312  roughly  years ago i closed out my accounts wi...   \n",
       "\n",
       "                                    lemmatized_complaint  \n",
       "1      good morning my name be xxxx xxxx and I apprec...  \n",
       "2      I upgrade my xxxx xxxx card in   and be tell b...  \n",
       "10     chase card be report on   however fraudulent a...  \n",
       "11     on   while try to book a xxxx   xxxx   ticket ...  \n",
       "14     my grand son give I check for   I deposit it i...  \n",
       "...                                                  ...  \n",
       "78303  after be a chase card customer for well over a...  \n",
       "78309  on wednesday xxxxxxxx I call chas my xxxx xxxx...  \n",
       "78310  I be not familiar with xxxx pay and do not und...  \n",
       "78311  I have have flawless credit for   yrs I ve hav...  \n",
       "78312  roughly   year ago I close out my account with...  \n",
       "\n",
       "[21072 rows x 2 columns]"
      ]
     },
     "execution_count": 18,
     "metadata": {},
     "output_type": "execute_result"
    }
   ],
   "source": [
    "df_clean"
   ]
  },
  {
   "cell_type": "code",
   "execution_count": 19,
   "metadata": {
    "id": "Kk7fc4DuJrF1"
   },
   "outputs": [],
   "source": [
    "#Write your function to extract the POS tags\n",
    "from nltk.tag import pos_tag\n",
    "from nltk.tokenize import word_tokenize\n",
    "def pos_tagging(text):\n",
    "    complaint = []\n",
    "    complaint = [word for (word,tag) in pos_tag(word_tokenize(text)) if tag=='NN']\n",
    "    return \" \".join(complaint)\n",
    "      \n",
    "df_clean[\"complaint_POS_removed\"] =  df_clean['lemmatized_complaint'].apply(pos_tagging)\n"
   ]
  },
  {
   "cell_type": "code",
   "execution_count": 20,
   "metadata": {
    "id": "AjxfchvFJrF2"
   },
   "outputs": [
    {
     "data": {
      "text/html": [
       "<div>\n",
       "<style scoped>\n",
       "    .dataframe tbody tr th:only-of-type {\n",
       "        vertical-align: middle;\n",
       "    }\n",
       "\n",
       "    .dataframe tbody tr th {\n",
       "        vertical-align: top;\n",
       "    }\n",
       "\n",
       "    .dataframe thead th {\n",
       "        text-align: right;\n",
       "    }\n",
       "</style>\n",
       "<table border=\"1\" class=\"dataframe\">\n",
       "  <thead>\n",
       "    <tr style=\"text-align: right;\">\n",
       "      <th></th>\n",
       "      <th>complaint_what_happened</th>\n",
       "      <th>lemmatized_complaint</th>\n",
       "      <th>complaint_POS_removed</th>\n",
       "    </tr>\n",
       "  </thead>\n",
       "  <tbody>\n",
       "    <tr>\n",
       "      <th>1</th>\n",
       "      <td>good morning my name is xxxx xxxx and i apprec...</td>\n",
       "      <td>good morning my name be xxxx xxxx and I apprec...</td>\n",
       "      <td>morning name stop bank cardmember service ask ...</td>\n",
       "    </tr>\n",
       "    <tr>\n",
       "      <th>2</th>\n",
       "      <td>i upgraded my xxxx xxxx card in  and was told ...</td>\n",
       "      <td>I upgrade my xxxx xxxx card in   and be tell b...</td>\n",
       "      <td>card agent upgrade date agent information orde...</td>\n",
       "    </tr>\n",
       "    <tr>\n",
       "      <th>10</th>\n",
       "      <td>chase card was reported on  however fraudulent...</td>\n",
       "      <td>chase card be report on   however fraudulent a...</td>\n",
       "      <td>card report application identity consent servi...</td>\n",
       "    </tr>\n",
       "    <tr>\n",
       "      <th>11</th>\n",
       "      <td>on  while trying to book a xxxx  xxxx  ticket ...</td>\n",
       "      <td>on   while try to book a xxxx   xxxx   ticket ...</td>\n",
       "      <td>try book xxxx ticket offer ticket card informa...</td>\n",
       "    </tr>\n",
       "    <tr>\n",
       "      <th>14</th>\n",
       "      <td>my grand son give me check for  i deposit it i...</td>\n",
       "      <td>my grand son give I check for   I deposit it i...</td>\n",
       "      <td>son chase account fund bank account pay money ...</td>\n",
       "    </tr>\n",
       "    <tr>\n",
       "      <th>...</th>\n",
       "      <td>...</td>\n",
       "      <td>...</td>\n",
       "      <td>...</td>\n",
       "    </tr>\n",
       "    <tr>\n",
       "      <th>78303</th>\n",
       "      <td>after being a chase card customer for well ove...</td>\n",
       "      <td>after be a chase card customer for well over a...</td>\n",
       "      <td>card customer decade solicitation credit card ...</td>\n",
       "    </tr>\n",
       "    <tr>\n",
       "      <th>78309</th>\n",
       "      <td>on wednesday xxxxxxxx i called chas my xxxx xx...</td>\n",
       "      <td>on wednesday xxxxxxxx I call chas my xxxx xxxx...</td>\n",
       "      <td>visa credit card provider claim purchase prote...</td>\n",
       "    </tr>\n",
       "    <tr>\n",
       "      <th>78310</th>\n",
       "      <td>i am not familiar with xxxx pay and did not un...</td>\n",
       "      <td>I be not familiar with xxxx pay and do not und...</td>\n",
       "      <td>pay risk provide consumer bank app chase year ...</td>\n",
       "    </tr>\n",
       "    <tr>\n",
       "      <th>78311</th>\n",
       "      <td>i have had flawless credit for  yrs ive had ch...</td>\n",
       "      <td>I have have flawless credit for   yrs I ve hav...</td>\n",
       "      <td>credit yrs credit card chase freedom xxxx prob...</td>\n",
       "    </tr>\n",
       "    <tr>\n",
       "      <th>78312</th>\n",
       "      <td>roughly  years ago i closed out my accounts wi...</td>\n",
       "      <td>roughly   year ago I close out my account with...</td>\n",
       "      <td>year account jp bank xxxx order line credit ac...</td>\n",
       "    </tr>\n",
       "  </tbody>\n",
       "</table>\n",
       "<p>21072 rows × 3 columns</p>\n",
       "</div>"
      ],
      "text/plain": [
       "                                 complaint_what_happened  \\\n",
       "1      good morning my name is xxxx xxxx and i apprec...   \n",
       "2      i upgraded my xxxx xxxx card in  and was told ...   \n",
       "10     chase card was reported on  however fraudulent...   \n",
       "11     on  while trying to book a xxxx  xxxx  ticket ...   \n",
       "14     my grand son give me check for  i deposit it i...   \n",
       "...                                                  ...   \n",
       "78303  after being a chase card customer for well ove...   \n",
       "78309  on wednesday xxxxxxxx i called chas my xxxx xx...   \n",
       "78310  i am not familiar with xxxx pay and did not un...   \n",
       "78311  i have had flawless credit for  yrs ive had ch...   \n",
       "78312  roughly  years ago i closed out my accounts wi...   \n",
       "\n",
       "                                    lemmatized_complaint  \\\n",
       "1      good morning my name be xxxx xxxx and I apprec...   \n",
       "2      I upgrade my xxxx xxxx card in   and be tell b...   \n",
       "10     chase card be report on   however fraudulent a...   \n",
       "11     on   while try to book a xxxx   xxxx   ticket ...   \n",
       "14     my grand son give I check for   I deposit it i...   \n",
       "...                                                  ...   \n",
       "78303  after be a chase card customer for well over a...   \n",
       "78309  on wednesday xxxxxxxx I call chas my xxxx xxxx...   \n",
       "78310  I be not familiar with xxxx pay and do not und...   \n",
       "78311  I have have flawless credit for   yrs I ve hav...   \n",
       "78312  roughly   year ago I close out my account with...   \n",
       "\n",
       "                                   complaint_POS_removed  \n",
       "1      morning name stop bank cardmember service ask ...  \n",
       "2      card agent upgrade date agent information orde...  \n",
       "10     card report application identity consent servi...  \n",
       "11     try book xxxx ticket offer ticket card informa...  \n",
       "14     son chase account fund bank account pay money ...  \n",
       "...                                                  ...  \n",
       "78303  card customer decade solicitation credit card ...  \n",
       "78309  visa credit card provider claim purchase prote...  \n",
       "78310  pay risk provide consumer bank app chase year ...  \n",
       "78311  credit yrs credit card chase freedom xxxx prob...  \n",
       "78312  year account jp bank xxxx order line credit ac...  \n",
       "\n",
       "[21072 rows x 3 columns]"
      ]
     },
     "execution_count": 20,
     "metadata": {},
     "output_type": "execute_result"
    }
   ],
   "source": [
    "#The clean dataframe should now contain the raw complaint, lemmatized complaint and the complaint after removing POS tags.\n",
    "df_clean"
   ]
  },
  {
   "cell_type": "markdown",
   "metadata": {
    "id": "_7Un1AElJrF2"
   },
   "source": [
    "## Exploratory data analysis to get familiar with the data.\n",
    "\n",
    "Write the code in this task to perform the following:\n",
    "\n",
    "*   Visualise the data according to the 'Complaint' character length\n",
    "*   Using a word cloud find the top 40 words by frequency among all the articles after processing the text\n",
    "*   Find the top unigrams,bigrams and trigrams by frequency among all the complaints after processing the text. ‘\n",
    "\n",
    "\n"
   ]
  },
  {
   "cell_type": "code",
   "execution_count": 21,
   "metadata": {
    "id": "q-zaqJF6JrF2"
   },
   "outputs": [
    {
     "data": {
      "image/png": "[encoded data removed]",
      "text/plain": [
       "<Figure size 500x500 with 1 Axes>"
      ]
     },
     "metadata": {},
     "output_type": "display_data"
    }
   ],
   "source": [
    "# Write your code here to visualise the data according to the 'Complaint' character length\n",
    "char_len = [len(each_complaint) for each_complaint in df_clean['complaint_POS_removed']]\n",
    "sns.displot(char_len, kind='hist', bins=60)\n",
    "plt.xlabel(\"Complaint character length\")\n",
    "plt.ylabel(\"Total number of Complaints\")\n",
    "plt.title(\"Distribution of Complaint character length\")\n",
    "plt.show()"
   ]
  },
  {
   "cell_type": "markdown",
   "metadata": {
    "id": "T9jD_6SeJrF3"
   },
   "source": [
    "#### Find the top 40 words by frequency among all the articles after processing the text."
   ]
  },
  {
   "cell_type": "code",
   "execution_count": 22,
   "metadata": {
    "id": "QcfdvtfZJrF3"
   },
   "outputs": [],
   "source": [
    "# Installing wordcloud\n",
    "#!pip install wordcloud\n",
    "from wordcloud import WordCloud, STOPWORDS, ImageColorGenerator"
   ]
  },
  {
   "cell_type": "code",
   "execution_count": 23,
   "metadata": {},
   "outputs": [
    {
     "data": {
      "image/png": "[encoded data removed]",
      "text/plain": [
       "<Figure size 1200x1200 with 1 Axes>"
      ]
     },
     "metadata": {},
     "output_type": "display_data"
    }
   ],
   "source": [
    "#Using a word cloud find the top 40 words by frequency among all the articles after processing the text\n",
    "stopwords = set(STOPWORDS)\n",
    "wordcloud = WordCloud(max_font_size=60, max_words=40, \n",
    "                      background_color=\"white\", random_state=100, \n",
    "                      stopwords=stopwords).generate(str(df_clean['complaint_POS_removed']))\n",
    "plt.figure(figsize=[12,12])\n",
    "plt.imshow(wordcloud, interpolation=\"bilinear\")\n",
    "plt.axis(\"off\")\n",
    "plt.show()\n"
   ]
  },
  {
   "cell_type": "code",
   "execution_count": 24,
   "metadata": {
    "id": "OkSmc3UaJrF4"
   },
   "outputs": [],
   "source": [
    "#Removing -PRON- from the text corpus\n",
    "df_clean['Complaint_clean'] = df_clean['complaint_POS_removed'].str.replace('-PRON-', '')"
   ]
  },
  {
   "cell_type": "markdown",
   "metadata": {
    "id": "5DfCSbbmJrF4"
   },
   "source": [
    "#### Find the top unigrams,bigrams and trigrams by frequency among all the complaints after processing the text."
   ]
  },
  {
   "cell_type": "code",
   "execution_count": 25,
   "metadata": {
    "id": "5mbk5DS5JrF4"
   },
   "outputs": [],
   "source": [
    "# Creating a function to extract top ngrams(unigram/bigram/trigram) based on the function inputs\n",
    "def get_top_ngrams(text, n=None, ngram=(1,1)):\n",
    "  vec = CountVectorizer(stop_words='english', ngram_range=ngram).fit(text)\n",
    "  bagofwords = vec.transform(text)\n",
    "  sum_words = bagofwords.sum(axis=0)\n",
    "  words_frequency = [(word, sum_words[0, index]) for word, index in vec.vocabulary_.items()]\n",
    "  words_frequency = sorted(words_frequency, key = lambda x: x[1], reverse=True)\n",
    "  return words_frequency[:n]"
   ]
  },
  {
   "cell_type": "code",
   "execution_count": 26,
   "metadata": {},
   "outputs": [
    {
     "data": {
      "text/html": [
       "<div>\n",
       "<style scoped>\n",
       "    .dataframe tbody tr th:only-of-type {\n",
       "        vertical-align: middle;\n",
       "    }\n",
       "\n",
       "    .dataframe tbody tr th {\n",
       "        vertical-align: top;\n",
       "    }\n",
       "\n",
       "    .dataframe thead th {\n",
       "        text-align: right;\n",
       "    }\n",
       "</style>\n",
       "<table border=\"1\" class=\"dataframe\">\n",
       "  <thead>\n",
       "    <tr style=\"text-align: right;\">\n",
       "      <th></th>\n",
       "      <th>unigram</th>\n",
       "      <th>count</th>\n",
       "    </tr>\n",
       "  </thead>\n",
       "  <tbody>\n",
       "    <tr>\n",
       "      <th>0</th>\n",
       "      <td>account</td>\n",
       "      <td>47523</td>\n",
       "    </tr>\n",
       "    <tr>\n",
       "      <th>1</th>\n",
       "      <td>chase</td>\n",
       "      <td>46710</td>\n",
       "    </tr>\n",
       "    <tr>\n",
       "      <th>2</th>\n",
       "      <td>xxxx</td>\n",
       "      <td>36583</td>\n",
       "    </tr>\n",
       "    <tr>\n",
       "      <th>3</th>\n",
       "      <td>credit</td>\n",
       "      <td>34154</td>\n",
       "    </tr>\n",
       "    <tr>\n",
       "      <th>4</th>\n",
       "      <td>card</td>\n",
       "      <td>29289</td>\n",
       "    </tr>\n",
       "    <tr>\n",
       "      <th>5</th>\n",
       "      <td>bank</td>\n",
       "      <td>28410</td>\n",
       "    </tr>\n",
       "    <tr>\n",
       "      <th>6</th>\n",
       "      <td>payment</td>\n",
       "      <td>21170</td>\n",
       "    </tr>\n",
       "    <tr>\n",
       "      <th>7</th>\n",
       "      <td>time</td>\n",
       "      <td>16027</td>\n",
       "    </tr>\n",
       "    <tr>\n",
       "      <th>8</th>\n",
       "      <td>charge</td>\n",
       "      <td>15000</td>\n",
       "    </tr>\n",
       "    <tr>\n",
       "      <th>9</th>\n",
       "      <td>day</td>\n",
       "      <td>12977</td>\n",
       "    </tr>\n",
       "    <tr>\n",
       "      <th>10</th>\n",
       "      <td>xxxxxxxx</td>\n",
       "      <td>12402</td>\n",
       "    </tr>\n",
       "    <tr>\n",
       "      <th>11</th>\n",
       "      <td>check</td>\n",
       "      <td>12302</td>\n",
       "    </tr>\n",
       "    <tr>\n",
       "      <th>12</th>\n",
       "      <td>money</td>\n",
       "      <td>11962</td>\n",
       "    </tr>\n",
       "    <tr>\n",
       "      <th>13</th>\n",
       "      <td>loan</td>\n",
       "      <td>11003</td>\n",
       "    </tr>\n",
       "    <tr>\n",
       "      <th>14</th>\n",
       "      <td>state</td>\n",
       "      <td>9700</td>\n",
       "    </tr>\n",
       "    <tr>\n",
       "      <th>15</th>\n",
       "      <td>letter</td>\n",
       "      <td>9669</td>\n",
       "    </tr>\n",
       "    <tr>\n",
       "      <th>16</th>\n",
       "      <td>information</td>\n",
       "      <td>9660</td>\n",
       "    </tr>\n",
       "    <tr>\n",
       "      <th>17</th>\n",
       "      <td>report</td>\n",
       "      <td>8971</td>\n",
       "    </tr>\n",
       "    <tr>\n",
       "      <th>18</th>\n",
       "      <td>transaction</td>\n",
       "      <td>8656</td>\n",
       "    </tr>\n",
       "    <tr>\n",
       "      <th>19</th>\n",
       "      <td>fee</td>\n",
       "      <td>8634</td>\n",
       "    </tr>\n",
       "    <tr>\n",
       "      <th>20</th>\n",
       "      <td>number</td>\n",
       "      <td>8628</td>\n",
       "    </tr>\n",
       "    <tr>\n",
       "      <th>21</th>\n",
       "      <td>month</td>\n",
       "      <td>8463</td>\n",
       "    </tr>\n",
       "    <tr>\n",
       "      <th>22</th>\n",
       "      <td>year</td>\n",
       "      <td>8293</td>\n",
       "    </tr>\n",
       "    <tr>\n",
       "      <th>23</th>\n",
       "      <td>mortgage</td>\n",
       "      <td>8198</td>\n",
       "    </tr>\n",
       "    <tr>\n",
       "      <th>24</th>\n",
       "      <td>customer</td>\n",
       "      <td>8164</td>\n",
       "    </tr>\n",
       "    <tr>\n",
       "      <th>25</th>\n",
       "      <td>claim</td>\n",
       "      <td>7852</td>\n",
       "    </tr>\n",
       "    <tr>\n",
       "      <th>26</th>\n",
       "      <td>balance</td>\n",
       "      <td>7744</td>\n",
       "    </tr>\n",
       "    <tr>\n",
       "      <th>27</th>\n",
       "      <td>phone</td>\n",
       "      <td>7720</td>\n",
       "    </tr>\n",
       "    <tr>\n",
       "      <th>28</th>\n",
       "      <td>service</td>\n",
       "      <td>7704</td>\n",
       "    </tr>\n",
       "    <tr>\n",
       "      <th>29</th>\n",
       "      <td>company</td>\n",
       "      <td>7631</td>\n",
       "    </tr>\n",
       "  </tbody>\n",
       "</table>\n",
       "</div>"
      ],
      "text/plain": [
       "        unigram  count\n",
       "0       account  47523\n",
       "1         chase  46710\n",
       "2          xxxx  36583\n",
       "3        credit  34154\n",
       "4          card  29289\n",
       "5          bank  28410\n",
       "6       payment  21170\n",
       "7          time  16027\n",
       "8        charge  15000\n",
       "9           day  12977\n",
       "10     xxxxxxxx  12402\n",
       "11        check  12302\n",
       "12        money  11962\n",
       "13         loan  11003\n",
       "14        state   9700\n",
       "15       letter   9669\n",
       "16  information   9660\n",
       "17       report   8971\n",
       "18  transaction   8656\n",
       "19          fee   8634\n",
       "20       number   8628\n",
       "21        month   8463\n",
       "22         year   8293\n",
       "23     mortgage   8198\n",
       "24     customer   8164\n",
       "25        claim   7852\n",
       "26      balance   7744\n",
       "27        phone   7720\n",
       "28      service   7704\n",
       "29      company   7631"
      ]
     },
     "execution_count": 26,
     "metadata": {},
     "output_type": "execute_result"
    }
   ],
   "source": [
    "top_30_unigram = get_top_ngrams(df_clean['Complaint_clean'].values.astype('U'), n=30, ngram=(1,1))\n",
    "df_unigram = pd.DataFrame(top_30_unigram, columns=['unigram', 'count'])\n",
    "df_unigram"
   ]
  },
  {
   "cell_type": "code",
   "execution_count": 27,
   "metadata": {},
   "outputs": [
    {
     "data": {
      "image/png": "[encoded data removed]",
      "text/plain": [
       "<Figure size 2000x600 with 1 Axes>"
      ]
     },
     "metadata": {},
     "output_type": "display_data"
    }
   ],
   "source": [
    "# Plotting top 30 Unigrams\n",
    "plt.figure(figsize=[20,6])\n",
    "sns.barplot(x=df_unigram['unigram'], y=df_unigram['count'])\n",
    "plt.xticks(rotation=45)\n",
    "plt.xlabel(\"Unigram\")\n",
    "plt.ylabel(\"Count\")\n",
    "plt.title(\"Count of top 30 Unigrams\")\n",
    "plt.show()"
   ]
  },
  {
   "cell_type": "code",
   "execution_count": 28,
   "metadata": {
    "id": "YX7fedm1JrF8"
   },
   "outputs": [
    {
     "data": {
      "text/html": [
       "<div>\n",
       "<style scoped>\n",
       "    .dataframe tbody tr th:only-of-type {\n",
       "        vertical-align: middle;\n",
       "    }\n",
       "\n",
       "    .dataframe tbody tr th {\n",
       "        vertical-align: top;\n",
       "    }\n",
       "\n",
       "    .dataframe thead th {\n",
       "        text-align: right;\n",
       "    }\n",
       "</style>\n",
       "<table border=\"1\" class=\"dataframe\">\n",
       "  <thead>\n",
       "    <tr style=\"text-align: right;\">\n",
       "      <th></th>\n",
       "      <th>unigram</th>\n",
       "      <th>count</th>\n",
       "    </tr>\n",
       "  </thead>\n",
       "  <tbody>\n",
       "    <tr>\n",
       "      <th>0</th>\n",
       "      <td>account</td>\n",
       "      <td>47523</td>\n",
       "    </tr>\n",
       "    <tr>\n",
       "      <th>1</th>\n",
       "      <td>chase</td>\n",
       "      <td>46710</td>\n",
       "    </tr>\n",
       "    <tr>\n",
       "      <th>2</th>\n",
       "      <td>xxxx</td>\n",
       "      <td>36583</td>\n",
       "    </tr>\n",
       "    <tr>\n",
       "      <th>3</th>\n",
       "      <td>credit</td>\n",
       "      <td>34154</td>\n",
       "    </tr>\n",
       "    <tr>\n",
       "      <th>4</th>\n",
       "      <td>card</td>\n",
       "      <td>29289</td>\n",
       "    </tr>\n",
       "    <tr>\n",
       "      <th>5</th>\n",
       "      <td>bank</td>\n",
       "      <td>28410</td>\n",
       "    </tr>\n",
       "    <tr>\n",
       "      <th>6</th>\n",
       "      <td>payment</td>\n",
       "      <td>21170</td>\n",
       "    </tr>\n",
       "    <tr>\n",
       "      <th>7</th>\n",
       "      <td>time</td>\n",
       "      <td>16027</td>\n",
       "    </tr>\n",
       "    <tr>\n",
       "      <th>8</th>\n",
       "      <td>charge</td>\n",
       "      <td>15000</td>\n",
       "    </tr>\n",
       "    <tr>\n",
       "      <th>9</th>\n",
       "      <td>day</td>\n",
       "      <td>12977</td>\n",
       "    </tr>\n",
       "  </tbody>\n",
       "</table>\n",
       "</div>"
      ],
      "text/plain": [
       "   unigram  count\n",
       "0  account  47523\n",
       "1    chase  46710\n",
       "2     xxxx  36583\n",
       "3   credit  34154\n",
       "4     card  29289\n",
       "5     bank  28410\n",
       "6  payment  21170\n",
       "7     time  16027\n",
       "8   charge  15000\n",
       "9      day  12977"
      ]
     },
     "execution_count": 28,
     "metadata": {},
     "output_type": "execute_result"
    }
   ],
   "source": [
    "#Print the top 10 words in the unigram frequency\n",
    "df_unigram.head(10)"
   ]
  },
  {
   "cell_type": "code",
   "execution_count": 29,
   "metadata": {
    "id": "aV7kD7w8JrF8"
   },
   "outputs": [
    {
     "data": {
      "text/html": [
       "<div>\n",
       "<style scoped>\n",
       "    .dataframe tbody tr th:only-of-type {\n",
       "        vertical-align: middle;\n",
       "    }\n",
       "\n",
       "    .dataframe tbody tr th {\n",
       "        vertical-align: top;\n",
       "    }\n",
       "\n",
       "    .dataframe thead th {\n",
       "        text-align: right;\n",
       "    }\n",
       "</style>\n",
       "<table border=\"1\" class=\"dataframe\">\n",
       "  <thead>\n",
       "    <tr style=\"text-align: right;\">\n",
       "      <th></th>\n",
       "      <th>bigram</th>\n",
       "      <th>count</th>\n",
       "    </tr>\n",
       "  </thead>\n",
       "  <tbody>\n",
       "    <tr>\n",
       "      <th>0</th>\n",
       "      <td>credit card</td>\n",
       "      <td>12781</td>\n",
       "    </tr>\n",
       "    <tr>\n",
       "      <th>1</th>\n",
       "      <td>credit report</td>\n",
       "      <td>3955</td>\n",
       "    </tr>\n",
       "    <tr>\n",
       "      <th>2</th>\n",
       "      <td>xxxx xxxx</td>\n",
       "      <td>3951</td>\n",
       "    </tr>\n",
       "    <tr>\n",
       "      <th>3</th>\n",
       "      <td>customer service</td>\n",
       "      <td>3081</td>\n",
       "    </tr>\n",
       "    <tr>\n",
       "      <th>4</th>\n",
       "      <td>chase credit</td>\n",
       "      <td>2966</td>\n",
       "    </tr>\n",
       "    <tr>\n",
       "      <th>5</th>\n",
       "      <td>chase bank</td>\n",
       "      <td>2940</td>\n",
       "    </tr>\n",
       "    <tr>\n",
       "      <th>6</th>\n",
       "      <td>bank account</td>\n",
       "      <td>2728</td>\n",
       "    </tr>\n",
       "    <tr>\n",
       "      <th>7</th>\n",
       "      <td>account chase</td>\n",
       "      <td>2595</td>\n",
       "    </tr>\n",
       "    <tr>\n",
       "      <th>8</th>\n",
       "      <td>chase account</td>\n",
       "      <td>2564</td>\n",
       "    </tr>\n",
       "    <tr>\n",
       "      <th>9</th>\n",
       "      <td>check account</td>\n",
       "      <td>2413</td>\n",
       "    </tr>\n",
       "    <tr>\n",
       "      <th>10</th>\n",
       "      <td>account account</td>\n",
       "      <td>2377</td>\n",
       "    </tr>\n",
       "    <tr>\n",
       "      <th>11</th>\n",
       "      <td>account bank</td>\n",
       "      <td>1747</td>\n",
       "    </tr>\n",
       "    <tr>\n",
       "      <th>12</th>\n",
       "      <td>card account</td>\n",
       "      <td>1596</td>\n",
       "    </tr>\n",
       "    <tr>\n",
       "      <th>13</th>\n",
       "      <td>debit card</td>\n",
       "      <td>1562</td>\n",
       "    </tr>\n",
       "    <tr>\n",
       "      <th>14</th>\n",
       "      <td>credit score</td>\n",
       "      <td>1540</td>\n",
       "    </tr>\n",
       "    <tr>\n",
       "      <th>15</th>\n",
       "      <td>account credit</td>\n",
       "      <td>1480</td>\n",
       "    </tr>\n",
       "    <tr>\n",
       "      <th>16</th>\n",
       "      <td>payment payment</td>\n",
       "      <td>1347</td>\n",
       "    </tr>\n",
       "    <tr>\n",
       "      <th>17</th>\n",
       "      <td>money account</td>\n",
       "      <td>1332</td>\n",
       "    </tr>\n",
       "    <tr>\n",
       "      <th>18</th>\n",
       "      <td>card chase</td>\n",
       "      <td>1297</td>\n",
       "    </tr>\n",
       "    <tr>\n",
       "      <th>19</th>\n",
       "      <td>account xxxx</td>\n",
       "      <td>1292</td>\n",
       "    </tr>\n",
       "    <tr>\n",
       "      <th>20</th>\n",
       "      <td>xxxx chase</td>\n",
       "      <td>1276</td>\n",
       "    </tr>\n",
       "    <tr>\n",
       "      <th>21</th>\n",
       "      <td>phone number</td>\n",
       "      <td>1265</td>\n",
       "    </tr>\n",
       "    <tr>\n",
       "      <th>22</th>\n",
       "      <td>business day</td>\n",
       "      <td>1263</td>\n",
       "    </tr>\n",
       "    <tr>\n",
       "      <th>23</th>\n",
       "      <td>credit account</td>\n",
       "      <td>1221</td>\n",
       "    </tr>\n",
       "    <tr>\n",
       "      <th>24</th>\n",
       "      <td>charge account</td>\n",
       "      <td>1206</td>\n",
       "    </tr>\n",
       "    <tr>\n",
       "      <th>25</th>\n",
       "      <td>account number</td>\n",
       "      <td>1169</td>\n",
       "    </tr>\n",
       "    <tr>\n",
       "      <th>26</th>\n",
       "      <td>xxxx account</td>\n",
       "      <td>1140</td>\n",
       "    </tr>\n",
       "    <tr>\n",
       "      <th>27</th>\n",
       "      <td>card company</td>\n",
       "      <td>1123</td>\n",
       "    </tr>\n",
       "    <tr>\n",
       "      <th>28</th>\n",
       "      <td>checking account</td>\n",
       "      <td>1110</td>\n",
       "    </tr>\n",
       "    <tr>\n",
       "      <th>29</th>\n",
       "      <td>card card</td>\n",
       "      <td>1081</td>\n",
       "    </tr>\n",
       "  </tbody>\n",
       "</table>\n",
       "</div>"
      ],
      "text/plain": [
       "              bigram  count\n",
       "0        credit card  12781\n",
       "1      credit report   3955\n",
       "2          xxxx xxxx   3951\n",
       "3   customer service   3081\n",
       "4       chase credit   2966\n",
       "5         chase bank   2940\n",
       "6       bank account   2728\n",
       "7      account chase   2595\n",
       "8      chase account   2564\n",
       "9      check account   2413\n",
       "10   account account   2377\n",
       "11      account bank   1747\n",
       "12      card account   1596\n",
       "13        debit card   1562\n",
       "14      credit score   1540\n",
       "15    account credit   1480\n",
       "16   payment payment   1347\n",
       "17     money account   1332\n",
       "18        card chase   1297\n",
       "19      account xxxx   1292\n",
       "20        xxxx chase   1276\n",
       "21      phone number   1265\n",
       "22      business day   1263\n",
       "23    credit account   1221\n",
       "24    charge account   1206\n",
       "25    account number   1169\n",
       "26      xxxx account   1140\n",
       "27      card company   1123\n",
       "28  checking account   1110\n",
       "29         card card   1081"
      ]
     },
     "execution_count": 29,
     "metadata": {},
     "output_type": "execute_result"
    }
   ],
   "source": [
    "#Write your code here to find the top 30 bigram frequency among the complaints in the cleaned datafram(df_clean). \n",
    "top_30_bigram = get_top_ngrams(df_clean['Complaint_clean'].values.astype('U'), n=30, ngram=(2,2))\n",
    "df_bigram = pd.DataFrame(top_30_bigram, columns=['bigram', 'count'])\n",
    "df_bigram"
   ]
  },
  {
   "cell_type": "code",
   "execution_count": 30,
   "metadata": {},
   "outputs": [
    {
     "data": {
      "image/png": "[encoded data removed]",
      "text/plain": [
       "<Figure size 2000x600 with 1 Axes>"
      ]
     },
     "metadata": {},
     "output_type": "display_data"
    }
   ],
   "source": [
    "# Plotting top 30 Bigrams\n",
    "plt.figure(figsize=[20,6])\n",
    "sns.barplot(x=df_bigram['bigram'], y=df_bigram['count'])\n",
    "plt.xticks(rotation=45)\n",
    "plt.xlabel(\"Bigram\")\n",
    "plt.ylabel(\"Count\")\n",
    "plt.title(\"Count of top 30 Bigrams\")\n",
    "plt.show()"
   ]
  },
  {
   "cell_type": "code",
   "execution_count": 31,
   "metadata": {
    "id": "NPnMNIpyJrF9"
   },
   "outputs": [
    {
     "data": {
      "text/html": [
       "<div>\n",
       "<style scoped>\n",
       "    .dataframe tbody tr th:only-of-type {\n",
       "        vertical-align: middle;\n",
       "    }\n",
       "\n",
       "    .dataframe tbody tr th {\n",
       "        vertical-align: top;\n",
       "    }\n",
       "\n",
       "    .dataframe thead th {\n",
       "        text-align: right;\n",
       "    }\n",
       "</style>\n",
       "<table border=\"1\" class=\"dataframe\">\n",
       "  <thead>\n",
       "    <tr style=\"text-align: right;\">\n",
       "      <th></th>\n",
       "      <th>bigram</th>\n",
       "      <th>count</th>\n",
       "    </tr>\n",
       "  </thead>\n",
       "  <tbody>\n",
       "    <tr>\n",
       "      <th>0</th>\n",
       "      <td>credit card</td>\n",
       "      <td>12781</td>\n",
       "    </tr>\n",
       "    <tr>\n",
       "      <th>1</th>\n",
       "      <td>credit report</td>\n",
       "      <td>3955</td>\n",
       "    </tr>\n",
       "    <tr>\n",
       "      <th>2</th>\n",
       "      <td>xxxx xxxx</td>\n",
       "      <td>3951</td>\n",
       "    </tr>\n",
       "    <tr>\n",
       "      <th>3</th>\n",
       "      <td>customer service</td>\n",
       "      <td>3081</td>\n",
       "    </tr>\n",
       "    <tr>\n",
       "      <th>4</th>\n",
       "      <td>chase credit</td>\n",
       "      <td>2966</td>\n",
       "    </tr>\n",
       "    <tr>\n",
       "      <th>5</th>\n",
       "      <td>chase bank</td>\n",
       "      <td>2940</td>\n",
       "    </tr>\n",
       "    <tr>\n",
       "      <th>6</th>\n",
       "      <td>bank account</td>\n",
       "      <td>2728</td>\n",
       "    </tr>\n",
       "    <tr>\n",
       "      <th>7</th>\n",
       "      <td>account chase</td>\n",
       "      <td>2595</td>\n",
       "    </tr>\n",
       "    <tr>\n",
       "      <th>8</th>\n",
       "      <td>chase account</td>\n",
       "      <td>2564</td>\n",
       "    </tr>\n",
       "    <tr>\n",
       "      <th>9</th>\n",
       "      <td>check account</td>\n",
       "      <td>2413</td>\n",
       "    </tr>\n",
       "  </tbody>\n",
       "</table>\n",
       "</div>"
      ],
      "text/plain": [
       "             bigram  count\n",
       "0       credit card  12781\n",
       "1     credit report   3955\n",
       "2         xxxx xxxx   3951\n",
       "3  customer service   3081\n",
       "4      chase credit   2966\n",
       "5        chase bank   2940\n",
       "6      bank account   2728\n",
       "7     account chase   2595\n",
       "8     chase account   2564\n",
       "9     check account   2413"
      ]
     },
     "execution_count": 31,
     "metadata": {},
     "output_type": "execute_result"
    }
   ],
   "source": [
    "#Print the top 10 words in the bigram frequency\n",
    "df_bigram.head(10)"
   ]
  },
  {
   "cell_type": "code",
   "execution_count": 32,
   "metadata": {
    "id": "Xkh7vtbtJrF-"
   },
   "outputs": [
    {
     "data": {
      "text/html": [
       "<div>\n",
       "<style scoped>\n",
       "    .dataframe tbody tr th:only-of-type {\n",
       "        vertical-align: middle;\n",
       "    }\n",
       "\n",
       "    .dataframe tbody tr th {\n",
       "        vertical-align: top;\n",
       "    }\n",
       "\n",
       "    .dataframe thead th {\n",
       "        text-align: right;\n",
       "    }\n",
       "</style>\n",
       "<table border=\"1\" class=\"dataframe\">\n",
       "  <thead>\n",
       "    <tr style=\"text-align: right;\">\n",
       "      <th></th>\n",
       "      <th>trigram</th>\n",
       "      <th>count</th>\n",
       "    </tr>\n",
       "  </thead>\n",
       "  <tbody>\n",
       "    <tr>\n",
       "      <th>0</th>\n",
       "      <td>chase credit card</td>\n",
       "      <td>2063</td>\n",
       "    </tr>\n",
       "    <tr>\n",
       "      <th>1</th>\n",
       "      <td>credit card account</td>\n",
       "      <td>1023</td>\n",
       "    </tr>\n",
       "    <tr>\n",
       "      <th>2</th>\n",
       "      <td>credit card company</td>\n",
       "      <td>992</td>\n",
       "    </tr>\n",
       "    <tr>\n",
       "      <th>3</th>\n",
       "      <td>credit card chase</td>\n",
       "      <td>632</td>\n",
       "    </tr>\n",
       "    <tr>\n",
       "      <th>4</th>\n",
       "      <td>credit card credit</td>\n",
       "      <td>515</td>\n",
       "    </tr>\n",
       "    <tr>\n",
       "      <th>5</th>\n",
       "      <td>inquiry credit report</td>\n",
       "      <td>481</td>\n",
       "    </tr>\n",
       "    <tr>\n",
       "      <th>6</th>\n",
       "      <td>charge credit card</td>\n",
       "      <td>421</td>\n",
       "    </tr>\n",
       "    <tr>\n",
       "      <th>7</th>\n",
       "      <td>xxxx xxxx xxxx</td>\n",
       "      <td>411</td>\n",
       "    </tr>\n",
       "    <tr>\n",
       "      <th>8</th>\n",
       "      <td>account credit card</td>\n",
       "      <td>398</td>\n",
       "    </tr>\n",
       "    <tr>\n",
       "      <th>9</th>\n",
       "      <td>card credit card</td>\n",
       "      <td>388</td>\n",
       "    </tr>\n",
       "    <tr>\n",
       "      <th>10</th>\n",
       "      <td>credit reporting agency</td>\n",
       "      <td>384</td>\n",
       "    </tr>\n",
       "    <tr>\n",
       "      <th>11</th>\n",
       "      <td>credit card bank</td>\n",
       "      <td>360</td>\n",
       "    </tr>\n",
       "    <tr>\n",
       "      <th>12</th>\n",
       "      <td>bank credit card</td>\n",
       "      <td>349</td>\n",
       "    </tr>\n",
       "    <tr>\n",
       "      <th>13</th>\n",
       "      <td>credit report credit</td>\n",
       "      <td>342</td>\n",
       "    </tr>\n",
       "    <tr>\n",
       "      <th>14</th>\n",
       "      <td>xxxx credit card</td>\n",
       "      <td>334</td>\n",
       "    </tr>\n",
       "    <tr>\n",
       "      <th>15</th>\n",
       "      <td>credit reporting act</td>\n",
       "      <td>328</td>\n",
       "    </tr>\n",
       "    <tr>\n",
       "      <th>16</th>\n",
       "      <td>credit card charge</td>\n",
       "      <td>307</td>\n",
       "    </tr>\n",
       "    <tr>\n",
       "      <th>17</th>\n",
       "      <td>credit card payment</td>\n",
       "      <td>295</td>\n",
       "    </tr>\n",
       "    <tr>\n",
       "      <th>18</th>\n",
       "      <td>account credit report</td>\n",
       "      <td>287</td>\n",
       "    </tr>\n",
       "    <tr>\n",
       "      <th>19</th>\n",
       "      <td>credit card xxxx</td>\n",
       "      <td>277</td>\n",
       "    </tr>\n",
       "    <tr>\n",
       "      <th>20</th>\n",
       "      <td>account chase account</td>\n",
       "      <td>268</td>\n",
       "    </tr>\n",
       "    <tr>\n",
       "      <th>21</th>\n",
       "      <td>credit card balance</td>\n",
       "      <td>261</td>\n",
       "    </tr>\n",
       "    <tr>\n",
       "      <th>22</th>\n",
       "      <td>credit card card</td>\n",
       "      <td>260</td>\n",
       "    </tr>\n",
       "    <tr>\n",
       "      <th>23</th>\n",
       "      <td>consumer protection bureau</td>\n",
       "      <td>247</td>\n",
       "    </tr>\n",
       "    <tr>\n",
       "      <th>24</th>\n",
       "      <td>chase customer service</td>\n",
       "      <td>246</td>\n",
       "    </tr>\n",
       "    <tr>\n",
       "      <th>25</th>\n",
       "      <td>victim identity theft</td>\n",
       "      <td>244</td>\n",
       "    </tr>\n",
       "    <tr>\n",
       "      <th>26</th>\n",
       "      <td>credit card service</td>\n",
       "      <td>239</td>\n",
       "    </tr>\n",
       "    <tr>\n",
       "      <th>27</th>\n",
       "      <td>payment credit card</td>\n",
       "      <td>237</td>\n",
       "    </tr>\n",
       "    <tr>\n",
       "      <th>28</th>\n",
       "      <td>freedom credit card</td>\n",
       "      <td>234</td>\n",
       "    </tr>\n",
       "    <tr>\n",
       "      <th>29</th>\n",
       "      <td>credit card statement</td>\n",
       "      <td>222</td>\n",
       "    </tr>\n",
       "  </tbody>\n",
       "</table>\n",
       "</div>"
      ],
      "text/plain": [
       "                       trigram  count\n",
       "0            chase credit card   2063\n",
       "1          credit card account   1023\n",
       "2          credit card company    992\n",
       "3            credit card chase    632\n",
       "4           credit card credit    515\n",
       "5        inquiry credit report    481\n",
       "6           charge credit card    421\n",
       "7               xxxx xxxx xxxx    411\n",
       "8          account credit card    398\n",
       "9             card credit card    388\n",
       "10     credit reporting agency    384\n",
       "11            credit card bank    360\n",
       "12            bank credit card    349\n",
       "13        credit report credit    342\n",
       "14            xxxx credit card    334\n",
       "15        credit reporting act    328\n",
       "16          credit card charge    307\n",
       "17         credit card payment    295\n",
       "18       account credit report    287\n",
       "19            credit card xxxx    277\n",
       "20       account chase account    268\n",
       "21         credit card balance    261\n",
       "22            credit card card    260\n",
       "23  consumer protection bureau    247\n",
       "24      chase customer service    246\n",
       "25       victim identity theft    244\n",
       "26         credit card service    239\n",
       "27         payment credit card    237\n",
       "28         freedom credit card    234\n",
       "29       credit card statement    222"
      ]
     },
     "execution_count": 32,
     "metadata": {},
     "output_type": "execute_result"
    }
   ],
   "source": [
    "#Write your code here to find the top 30 trigram frequency among the complaints in the cleaned datafram(df_clean). \n",
    "top_30_trigram = get_top_ngrams(df_clean['Complaint_clean'].values.astype('U'), n=30, ngram=(3,3))\n",
    "df_trigram = pd.DataFrame(top_30_trigram, columns=['trigram', 'count'])\n",
    "df_trigram"
   ]
  },
  {
   "cell_type": "code",
   "execution_count": 33,
   "metadata": {},
   "outputs": [
    {
     "data": {
      "image/png": "[encoded data removed]",
      "text/plain": [
       "<Figure size 2000x600 with 1 Axes>"
      ]
     },
     "metadata": {},
     "output_type": "display_data"
    }
   ],
   "source": [
    "# Plotting top 30 Trigrams\n",
    "plt.figure(figsize=[20,6])\n",
    "sns.barplot(x=df_trigram['trigram'], y=df_trigram['count'])\n",
    "plt.xticks(rotation=45)\n",
    "plt.xlabel(\"Trigram\")\n",
    "plt.ylabel(\"Count\")\n",
    "plt.title(\"Count of top 30 Trigrams\")\n",
    "plt.show()"
   ]
  },
  {
   "cell_type": "code",
   "execution_count": 34,
   "metadata": {
    "id": "REcVxNfvJrF-"
   },
   "outputs": [
    {
     "data": {
      "text/html": [
       "<div>\n",
       "<style scoped>\n",
       "    .dataframe tbody tr th:only-of-type {\n",
       "        vertical-align: middle;\n",
       "    }\n",
       "\n",
       "    .dataframe tbody tr th {\n",
       "        vertical-align: top;\n",
       "    }\n",
       "\n",
       "    .dataframe thead th {\n",
       "        text-align: right;\n",
       "    }\n",
       "</style>\n",
       "<table border=\"1\" class=\"dataframe\">\n",
       "  <thead>\n",
       "    <tr style=\"text-align: right;\">\n",
       "      <th></th>\n",
       "      <th>trigram</th>\n",
       "      <th>count</th>\n",
       "    </tr>\n",
       "  </thead>\n",
       "  <tbody>\n",
       "    <tr>\n",
       "      <th>0</th>\n",
       "      <td>chase credit card</td>\n",
       "      <td>2063</td>\n",
       "    </tr>\n",
       "    <tr>\n",
       "      <th>1</th>\n",
       "      <td>credit card account</td>\n",
       "      <td>1023</td>\n",
       "    </tr>\n",
       "    <tr>\n",
       "      <th>2</th>\n",
       "      <td>credit card company</td>\n",
       "      <td>992</td>\n",
       "    </tr>\n",
       "    <tr>\n",
       "      <th>3</th>\n",
       "      <td>credit card chase</td>\n",
       "      <td>632</td>\n",
       "    </tr>\n",
       "    <tr>\n",
       "      <th>4</th>\n",
       "      <td>credit card credit</td>\n",
       "      <td>515</td>\n",
       "    </tr>\n",
       "    <tr>\n",
       "      <th>5</th>\n",
       "      <td>inquiry credit report</td>\n",
       "      <td>481</td>\n",
       "    </tr>\n",
       "    <tr>\n",
       "      <th>6</th>\n",
       "      <td>charge credit card</td>\n",
       "      <td>421</td>\n",
       "    </tr>\n",
       "    <tr>\n",
       "      <th>7</th>\n",
       "      <td>xxxx xxxx xxxx</td>\n",
       "      <td>411</td>\n",
       "    </tr>\n",
       "    <tr>\n",
       "      <th>8</th>\n",
       "      <td>account credit card</td>\n",
       "      <td>398</td>\n",
       "    </tr>\n",
       "    <tr>\n",
       "      <th>9</th>\n",
       "      <td>card credit card</td>\n",
       "      <td>388</td>\n",
       "    </tr>\n",
       "  </tbody>\n",
       "</table>\n",
       "</div>"
      ],
      "text/plain": [
       "                 trigram  count\n",
       "0      chase credit card   2063\n",
       "1    credit card account   1023\n",
       "2    credit card company    992\n",
       "3      credit card chase    632\n",
       "4     credit card credit    515\n",
       "5  inquiry credit report    481\n",
       "6     charge credit card    421\n",
       "7         xxxx xxxx xxxx    411\n",
       "8    account credit card    398\n",
       "9       card credit card    388"
      ]
     },
     "execution_count": 34,
     "metadata": {},
     "output_type": "execute_result"
    }
   ],
   "source": [
    "#Print the top 10 words in the trigram frequency\n",
    "df_trigram.head(10)"
   ]
  },
  {
   "cell_type": "markdown",
   "metadata": {
    "id": "yUXzFji0JrF_"
   },
   "source": [
    "## The personal details of customer has been masked in the dataset with xxxx. Let's remove the masked text as this will be of no use for our analysis"
   ]
  },
  {
   "cell_type": "code",
   "execution_count": 35,
   "metadata": {
    "id": "wKda-a_IJrF_"
   },
   "outputs": [],
   "source": [
    "df_clean['Complaint_clean'] = df_clean['Complaint_clean'].str.replace('xxxx','')"
   ]
  },
  {
   "cell_type": "code",
   "execution_count": 36,
   "metadata": {
    "id": "9UIFk8fQJrF_"
   },
   "outputs": [
    {
     "data": {
      "text/html": [
       "<div>\n",
       "<style scoped>\n",
       "    .dataframe tbody tr th:only-of-type {\n",
       "        vertical-align: middle;\n",
       "    }\n",
       "\n",
       "    .dataframe tbody tr th {\n",
       "        vertical-align: top;\n",
       "    }\n",
       "\n",
       "    .dataframe thead th {\n",
       "        text-align: right;\n",
       "    }\n",
       "</style>\n",
       "<table border=\"1\" class=\"dataframe\">\n",
       "  <thead>\n",
       "    <tr style=\"text-align: right;\">\n",
       "      <th></th>\n",
       "      <th>complaint_what_happened</th>\n",
       "      <th>lemmatized_complaint</th>\n",
       "      <th>complaint_POS_removed</th>\n",
       "      <th>Complaint_clean</th>\n",
       "    </tr>\n",
       "  </thead>\n",
       "  <tbody>\n",
       "    <tr>\n",
       "      <th>1</th>\n",
       "      <td>good morning my name is xxxx xxxx and i apprec...</td>\n",
       "      <td>good morning my name be xxxx xxxx and I apprec...</td>\n",
       "      <td>morning name stop bank cardmember service ask ...</td>\n",
       "      <td>morning name stop bank cardmember service ask ...</td>\n",
       "    </tr>\n",
       "    <tr>\n",
       "      <th>2</th>\n",
       "      <td>i upgraded my xxxx xxxx card in  and was told ...</td>\n",
       "      <td>I upgrade my xxxx xxxx card in   and be tell b...</td>\n",
       "      <td>card agent upgrade date agent information orde...</td>\n",
       "      <td>card agent upgrade date agent information orde...</td>\n",
       "    </tr>\n",
       "    <tr>\n",
       "      <th>10</th>\n",
       "      <td>chase card was reported on  however fraudulent...</td>\n",
       "      <td>chase card be report on   however fraudulent a...</td>\n",
       "      <td>card report application identity consent servi...</td>\n",
       "      <td>card report application identity consent servi...</td>\n",
       "    </tr>\n",
       "    <tr>\n",
       "      <th>11</th>\n",
       "      <td>on  while trying to book a xxxx  xxxx  ticket ...</td>\n",
       "      <td>on   while try to book a xxxx   xxxx   ticket ...</td>\n",
       "      <td>try book xxxx ticket offer ticket card informa...</td>\n",
       "      <td>try book  ticket offer ticket card information...</td>\n",
       "    </tr>\n",
       "    <tr>\n",
       "      <th>14</th>\n",
       "      <td>my grand son give me check for  i deposit it i...</td>\n",
       "      <td>my grand son give I check for   I deposit it i...</td>\n",
       "      <td>son chase account fund bank account pay money ...</td>\n",
       "      <td>son chase account fund bank account pay money ...</td>\n",
       "    </tr>\n",
       "    <tr>\n",
       "      <th>...</th>\n",
       "      <td>...</td>\n",
       "      <td>...</td>\n",
       "      <td>...</td>\n",
       "      <td>...</td>\n",
       "    </tr>\n",
       "    <tr>\n",
       "      <th>78303</th>\n",
       "      <td>after being a chase card customer for well ove...</td>\n",
       "      <td>after be a chase card customer for well over a...</td>\n",
       "      <td>card customer decade solicitation credit card ...</td>\n",
       "      <td>card customer decade solicitation credit card ...</td>\n",
       "    </tr>\n",
       "    <tr>\n",
       "      <th>78309</th>\n",
       "      <td>on wednesday xxxxxxxx i called chas my xxxx xx...</td>\n",
       "      <td>on wednesday xxxxxxxx I call chas my xxxx xxxx...</td>\n",
       "      <td>visa credit card provider claim purchase prote...</td>\n",
       "      <td>visa credit card provider claim purchase prote...</td>\n",
       "    </tr>\n",
       "    <tr>\n",
       "      <th>78310</th>\n",
       "      <td>i am not familiar with xxxx pay and did not un...</td>\n",
       "      <td>I be not familiar with xxxx pay and do not und...</td>\n",
       "      <td>pay risk provide consumer bank app chase year ...</td>\n",
       "      <td>pay risk provide consumer bank app chase year ...</td>\n",
       "    </tr>\n",
       "    <tr>\n",
       "      <th>78311</th>\n",
       "      <td>i have had flawless credit for  yrs ive had ch...</td>\n",
       "      <td>I have have flawless credit for   yrs I ve hav...</td>\n",
       "      <td>credit yrs credit card chase freedom xxxx prob...</td>\n",
       "      <td>credit yrs credit card chase freedom  problem ...</td>\n",
       "    </tr>\n",
       "    <tr>\n",
       "      <th>78312</th>\n",
       "      <td>roughly  years ago i closed out my accounts wi...</td>\n",
       "      <td>roughly   year ago I close out my account with...</td>\n",
       "      <td>year account jp bank xxxx order line credit ac...</td>\n",
       "      <td>year account jp bank  order line credit accoun...</td>\n",
       "    </tr>\n",
       "  </tbody>\n",
       "</table>\n",
       "<p>21072 rows × 4 columns</p>\n",
       "</div>"
      ],
      "text/plain": [
       "                                 complaint_what_happened  \\\n",
       "1      good morning my name is xxxx xxxx and i apprec...   \n",
       "2      i upgraded my xxxx xxxx card in  and was told ...   \n",
       "10     chase card was reported on  however fraudulent...   \n",
       "11     on  while trying to book a xxxx  xxxx  ticket ...   \n",
       "14     my grand son give me check for  i deposit it i...   \n",
       "...                                                  ...   \n",
       "78303  after being a chase card customer for well ove...   \n",
       "78309  on wednesday xxxxxxxx i called chas my xxxx xx...   \n",
       "78310  i am not familiar with xxxx pay and did not un...   \n",
       "78311  i have had flawless credit for  yrs ive had ch...   \n",
       "78312  roughly  years ago i closed out my accounts wi...   \n",
       "\n",
       "                                    lemmatized_complaint  \\\n",
       "1      good morning my name be xxxx xxxx and I apprec...   \n",
       "2      I upgrade my xxxx xxxx card in   and be tell b...   \n",
       "10     chase card be report on   however fraudulent a...   \n",
       "11     on   while try to book a xxxx   xxxx   ticket ...   \n",
       "14     my grand son give I check for   I deposit it i...   \n",
       "...                                                  ...   \n",
       "78303  after be a chase card customer for well over a...   \n",
       "78309  on wednesday xxxxxxxx I call chas my xxxx xxxx...   \n",
       "78310  I be not familiar with xxxx pay and do not und...   \n",
       "78311  I have have flawless credit for   yrs I ve hav...   \n",
       "78312  roughly   year ago I close out my account with...   \n",
       "\n",
       "                                   complaint_POS_removed  \\\n",
       "1      morning name stop bank cardmember service ask ...   \n",
       "2      card agent upgrade date agent information orde...   \n",
       "10     card report application identity consent servi...   \n",
       "11     try book xxxx ticket offer ticket card informa...   \n",
       "14     son chase account fund bank account pay money ...   \n",
       "...                                                  ...   \n",
       "78303  card customer decade solicitation credit card ...   \n",
       "78309  visa credit card provider claim purchase prote...   \n",
       "78310  pay risk provide consumer bank app chase year ...   \n",
       "78311  credit yrs credit card chase freedom xxxx prob...   \n",
       "78312  year account jp bank xxxx order line credit ac...   \n",
       "\n",
       "                                         Complaint_clean  \n",
       "1      morning name stop bank cardmember service ask ...  \n",
       "2      card agent upgrade date agent information orde...  \n",
       "10     card report application identity consent servi...  \n",
       "11     try book  ticket offer ticket card information...  \n",
       "14     son chase account fund bank account pay money ...  \n",
       "...                                                  ...  \n",
       "78303  card customer decade solicitation credit card ...  \n",
       "78309  visa credit card provider claim purchase prote...  \n",
       "78310  pay risk provide consumer bank app chase year ...  \n",
       "78311  credit yrs credit card chase freedom  problem ...  \n",
       "78312  year account jp bank  order line credit accoun...  \n",
       "\n",
       "[21072 rows x 4 columns]"
      ]
     },
     "execution_count": 36,
     "metadata": {},
     "output_type": "execute_result"
    }
   ],
   "source": [
    "#All masked texts has been removed\n",
    "df_clean"
   ]
  },
  {
   "cell_type": "markdown",
   "metadata": {
    "id": "k-I0k0QtJrGA"
   },
   "source": [
    "## Feature Extraction\n",
    "Convert the raw texts to a matrix of TF-IDF features\n",
    "\n",
    "**max_df** is used for removing terms that appear too frequently, also known as \"corpus-specific stop words\"\n",
    "max_df = 0.95 means \"ignore terms that appear in more than 95% of the complaints\"\n",
    "\n",
    "**min_df** is used for removing terms that appear too infrequently\n",
    "min_df = 2 means \"ignore terms that appear in less than 2 complaints\""
   ]
  },
  {
   "cell_type": "code",
   "execution_count": 37,
   "metadata": {
    "id": "Y8fGwaCPJrGA"
   },
   "outputs": [],
   "source": [
    "#Write your code here to initialise the TfidfVectorizer \n",
    "tfidf = TfidfVectorizer(min_df=2, max_df=0.95, stop_words='english')"
   ]
  },
  {
   "cell_type": "markdown",
   "metadata": {
    "id": "yYzD85nTJrGA"
   },
   "source": [
    "#### Create a document term matrix using fit_transform\n",
    "\n",
    "The contents of a document term matrix are tuples of (complaint_id,token_id) tf-idf score:\n",
    "The tuples that are not there have a tf-idf score of 0"
   ]
  },
  {
   "cell_type": "code",
   "execution_count": 38,
   "metadata": {
    "id": "ffzdDpp_JrGB"
   },
   "outputs": [],
   "source": [
    "#Write your code here to create the Document Term Matrix by transforming the complaints column present in df_clean.\n",
    "dtm = tfidf.fit_transform(df_clean['Complaint_clean'])"
   ]
  },
  {
   "cell_type": "code",
   "execution_count": 39,
   "metadata": {},
   "outputs": [
    {
     "data": {
      "text/plain": [
       "<21072x7267 sparse matrix of type '<class 'numpy.float64'>'\n",
       "\twith 643743 stored elements in Compressed Sparse Row format>"
      ]
     },
     "execution_count": 39,
     "metadata": {},
     "output_type": "execute_result"
    }
   ],
   "source": [
    "dtm"
   ]
  },
  {
   "cell_type": "markdown",
   "metadata": {
    "id": "7Q9lwvNEJrGB"
   },
   "source": [
    "## Topic Modelling using NMF\n",
    "\n",
    "Non-Negative Matrix Factorization (NMF) is an unsupervised technique so there are no labeling of topics that the model will be trained on. The way it works is that, NMF decomposes (or factorizes) high-dimensional vectors into a lower-dimensional representation. These lower-dimensional vectors are non-negative which also means their coefficients are non-negative.\n",
    "\n",
    "In this task you have to perform the following:\n",
    "\n",
    "* Find the best number of clusters \n",
    "* Apply the best number to create word clusters\n",
    "* Inspect & validate the correction of each cluster wrt the complaints \n",
    "* Correct the labels if needed \n",
    "* Map the clusters to topics/cluster names"
   ]
  },
  {
   "cell_type": "code",
   "execution_count": 40,
   "metadata": {
    "id": "amLT4omWJrGB"
   },
   "outputs": [],
   "source": [
    "from sklearn.decomposition import NMF"
   ]
  },
  {
   "cell_type": "markdown",
   "metadata": {
    "id": "0wYR1xUTJrGD"
   },
   "source": [
    "## Manual Topic Modeling\n",
    "You need to do take the trial & error approach to find the best num of topics for your NMF model.\n",
    "\n",
    "The only parameter that is required is the number of components i.e. the number of topics we want. This is the most crucial step in the whole topic modeling process and will greatly affect how good your final topics are."
   ]
  },
  {
   "cell_type": "code",
   "execution_count": 41,
   "metadata": {
    "id": "sgd2A6bhJrGD"
   },
   "outputs": [],
   "source": [
    "#Load your nmf_model with the n_components i.e 5\n",
    "num_topics = 5\n",
    "\n",
    "#keep the random_state =40\n",
    "nmf_model = NMF(n_components=num_topics, random_state=40)"
   ]
  },
  {
   "cell_type": "code",
   "execution_count": 42,
   "metadata": {
    "id": "VPMDYbt_JrGE"
   },
   "outputs": [
    {
     "name": "stderr",
     "output_type": "stream",
     "text": [
      "C:\\Users\\sandi\\Anaconda3\\lib\\site-packages\\sklearn\\decomposition\\_nmf.py:294: FutureWarning:\n",
      "\n",
      "The 'init' value, when 'init=None' and n_components is less than n_samples and n_features, will be changed from 'nndsvd' to 'nndsvda' in 1.1 (renaming of 0.26).\n",
      "\n",
      "C:\\Users\\sandi\\Anaconda3\\lib\\site-packages\\sklearn\\utils\\deprecation.py:87: FutureWarning:\n",
      "\n",
      "Function get_feature_names is deprecated; get_feature_names is deprecated in 1.0 and will be removed in 1.2. Please use get_feature_names_out instead.\n",
      "\n"
     ]
    },
    {
     "data": {
      "text/plain": [
       "7267"
      ]
     },
     "execution_count": 42,
     "metadata": {},
     "output_type": "execute_result"
    }
   ],
   "source": [
    "nmf_model.fit(dtm)\n",
    "len(tfidf.get_feature_names())"
   ]
  },
  {
   "cell_type": "code",
   "execution_count": 43,
   "metadata": {},
   "outputs": [],
   "source": [
    "H = nmf_model.components_"
   ]
  },
  {
   "cell_type": "code",
   "execution_count": 44,
   "metadata": {
    "id": "16kRfat5JrGE"
   },
   "outputs": [
    {
     "data": {
      "text/html": [
       "<div>\n",
       "<style scoped>\n",
       "    .dataframe tbody tr th:only-of-type {\n",
       "        vertical-align: middle;\n",
       "    }\n",
       "\n",
       "    .dataframe tbody tr th {\n",
       "        vertical-align: top;\n",
       "    }\n",
       "\n",
       "    .dataframe thead th {\n",
       "        text-align: right;\n",
       "    }\n",
       "</style>\n",
       "<table border=\"1\" class=\"dataframe\">\n",
       "  <thead>\n",
       "    <tr style=\"text-align: right;\">\n",
       "      <th></th>\n",
       "      <th>Word 1</th>\n",
       "      <th>Word 2</th>\n",
       "      <th>Word 3</th>\n",
       "      <th>Word 4</th>\n",
       "      <th>Word 5</th>\n",
       "      <th>Word 6</th>\n",
       "      <th>Word 7</th>\n",
       "      <th>Word 8</th>\n",
       "      <th>Word 9</th>\n",
       "      <th>Word 10</th>\n",
       "      <th>Word 11</th>\n",
       "      <th>Word 12</th>\n",
       "      <th>Word 13</th>\n",
       "      <th>Word 14</th>\n",
       "      <th>Word 15</th>\n",
       "    </tr>\n",
       "  </thead>\n",
       "  <tbody>\n",
       "    <tr>\n",
       "      <th>Topic 1</th>\n",
       "      <td>account</td>\n",
       "      <td>bank</td>\n",
       "      <td>check</td>\n",
       "      <td>money</td>\n",
       "      <td>fund</td>\n",
       "      <td>chase</td>\n",
       "      <td>deposit</td>\n",
       "      <td>branch</td>\n",
       "      <td>day</td>\n",
       "      <td>number</td>\n",
       "      <td>business</td>\n",
       "      <td>transaction</td>\n",
       "      <td>claim</td>\n",
       "      <td>transfer</td>\n",
       "      <td>customer</td>\n",
       "    </tr>\n",
       "    <tr>\n",
       "      <th>Topic 2</th>\n",
       "      <td>credit</td>\n",
       "      <td>card</td>\n",
       "      <td>report</td>\n",
       "      <td>inquiry</td>\n",
       "      <td>chase</td>\n",
       "      <td>account</td>\n",
       "      <td>score</td>\n",
       "      <td>company</td>\n",
       "      <td>limit</td>\n",
       "      <td>information</td>\n",
       "      <td>debt</td>\n",
       "      <td>application</td>\n",
       "      <td>letter</td>\n",
       "      <td>year</td>\n",
       "      <td>balance</td>\n",
       "    </tr>\n",
       "    <tr>\n",
       "      <th>Topic 3</th>\n",
       "      <td>payment</td>\n",
       "      <td>balance</td>\n",
       "      <td>month</td>\n",
       "      <td>fee</td>\n",
       "      <td>statement</td>\n",
       "      <td>day</td>\n",
       "      <td>time</td>\n",
       "      <td>auto</td>\n",
       "      <td>date</td>\n",
       "      <td>pay</td>\n",
       "      <td>credit</td>\n",
       "      <td>account</td>\n",
       "      <td>chase</td>\n",
       "      <td>year</td>\n",
       "      <td>mortgage</td>\n",
       "    </tr>\n",
       "    <tr>\n",
       "      <th>Topic 4</th>\n",
       "      <td>charge</td>\n",
       "      <td>card</td>\n",
       "      <td>fee</td>\n",
       "      <td>transaction</td>\n",
       "      <td>dispute</td>\n",
       "      <td>chase</td>\n",
       "      <td>merchant</td>\n",
       "      <td>fraud</td>\n",
       "      <td>claim</td>\n",
       "      <td>purchase</td>\n",
       "      <td>service</td>\n",
       "      <td>time</td>\n",
       "      <td>statement</td>\n",
       "      <td>refund</td>\n",
       "      <td>company</td>\n",
       "    </tr>\n",
       "    <tr>\n",
       "      <th>Topic 5</th>\n",
       "      <td>loan</td>\n",
       "      <td>mortgage</td>\n",
       "      <td>home</td>\n",
       "      <td>modification</td>\n",
       "      <td>chase</td>\n",
       "      <td>property</td>\n",
       "      <td>year</td>\n",
       "      <td>letter</td>\n",
       "      <td>rate</td>\n",
       "      <td>time</td>\n",
       "      <td>document</td>\n",
       "      <td>bank</td>\n",
       "      <td>house</td>\n",
       "      <td>foreclosure</td>\n",
       "      <td>sale</td>\n",
       "    </tr>\n",
       "  </tbody>\n",
       "</table>\n",
       "</div>"
      ],
      "text/plain": [
       "          Word 1    Word 2  Word 3        Word 4     Word 5    Word 6  \\\n",
       "Topic 1  account      bank   check         money       fund     chase   \n",
       "Topic 2   credit      card  report       inquiry      chase   account   \n",
       "Topic 3  payment   balance   month           fee  statement       day   \n",
       "Topic 4   charge      card     fee   transaction    dispute     chase   \n",
       "Topic 5     loan  mortgage    home  modification      chase  property   \n",
       "\n",
       "           Word 7   Word 8 Word 9      Word 10   Word 11      Word 12  \\\n",
       "Topic 1   deposit   branch    day       number  business  transaction   \n",
       "Topic 2     score  company  limit  information      debt  application   \n",
       "Topic 3      time     auto   date          pay    credit      account   \n",
       "Topic 4  merchant    fraud  claim     purchase   service         time   \n",
       "Topic 5      year   letter   rate         time  document         bank   \n",
       "\n",
       "           Word 13      Word 14   Word 15  \n",
       "Topic 1      claim     transfer  customer  \n",
       "Topic 2     letter         year   balance  \n",
       "Topic 3      chase         year  mortgage  \n",
       "Topic 4  statement       refund   company  \n",
       "Topic 5      house  foreclosure      sale  "
      ]
     },
     "execution_count": 44,
     "metadata": {},
     "output_type": "execute_result"
    }
   ],
   "source": [
    "#Print the Top15 words for each of the topics\n",
    "words = np.array(tfidf.get_feature_names())\n",
    "topic_words = pd.DataFrame(np.zeros((num_topics, 15)), index=[f'Topic {i + 1}' for i in range(num_topics)],\n",
    "                           columns=[f'Word {i + 1}' for i in range(15)]).astype(str)\n",
    "for i in range(num_topics):\n",
    "    ix = H[i].argsort()[::-1][:15]\n",
    "    topic_words.iloc[i] = words[ix]\n",
    "\n",
    "topic_words"
   ]
  },
  {
   "cell_type": "code",
   "execution_count": 45,
   "metadata": {
    "id": "0OIT7LmFJrGF"
   },
   "outputs": [],
   "source": [
    "#Create the best topic for each complaint in terms of integer value 0,1,2,3 & 4\n",
    "topic_results = nmf_model.transform(dtm)"
   ]
  },
  {
   "cell_type": "code",
   "execution_count": 46,
   "metadata": {
    "id": "peyYv-ORJrGF"
   },
   "outputs": [],
   "source": [
    "#Assign the best topic to each of the cmplaints in Topic Column\n",
    "df_clean['Topic'] = topic_results.argmax(axis=1)"
   ]
  },
  {
   "cell_type": "code",
   "execution_count": 47,
   "metadata": {
    "id": "fLh_Gf3nJrGF"
   },
   "outputs": [
    {
     "data": {
      "text/html": [
       "<div>\n",
       "<style scoped>\n",
       "    .dataframe tbody tr th:only-of-type {\n",
       "        vertical-align: middle;\n",
       "    }\n",
       "\n",
       "    .dataframe tbody tr th {\n",
       "        vertical-align: top;\n",
       "    }\n",
       "\n",
       "    .dataframe thead th {\n",
       "        text-align: right;\n",
       "    }\n",
       "</style>\n",
       "<table border=\"1\" class=\"dataframe\">\n",
       "  <thead>\n",
       "    <tr style=\"text-align: right;\">\n",
       "      <th></th>\n",
       "      <th>complaint_what_happened</th>\n",
       "      <th>lemmatized_complaint</th>\n",
       "      <th>complaint_POS_removed</th>\n",
       "      <th>Complaint_clean</th>\n",
       "      <th>Topic</th>\n",
       "    </tr>\n",
       "  </thead>\n",
       "  <tbody>\n",
       "    <tr>\n",
       "      <th>1</th>\n",
       "      <td>good morning my name is xxxx xxxx and i apprec...</td>\n",
       "      <td>good morning my name be xxxx xxxx and I apprec...</td>\n",
       "      <td>morning name stop bank cardmember service ask ...</td>\n",
       "      <td>morning name stop bank cardmember service ask ...</td>\n",
       "      <td>0</td>\n",
       "    </tr>\n",
       "    <tr>\n",
       "      <th>2</th>\n",
       "      <td>i upgraded my xxxx xxxx card in  and was told ...</td>\n",
       "      <td>I upgrade my xxxx xxxx card in   and be tell b...</td>\n",
       "      <td>card agent upgrade date agent information orde...</td>\n",
       "      <td>card agent upgrade date agent information orde...</td>\n",
       "      <td>1</td>\n",
       "    </tr>\n",
       "    <tr>\n",
       "      <th>10</th>\n",
       "      <td>chase card was reported on  however fraudulent...</td>\n",
       "      <td>chase card be report on   however fraudulent a...</td>\n",
       "      <td>card report application identity consent servi...</td>\n",
       "      <td>card report application identity consent servi...</td>\n",
       "      <td>1</td>\n",
       "    </tr>\n",
       "    <tr>\n",
       "      <th>11</th>\n",
       "      <td>on  while trying to book a xxxx  xxxx  ticket ...</td>\n",
       "      <td>on   while try to book a xxxx   xxxx   ticket ...</td>\n",
       "      <td>try book xxxx ticket offer ticket card informa...</td>\n",
       "      <td>try book  ticket offer ticket card information...</td>\n",
       "      <td>1</td>\n",
       "    </tr>\n",
       "    <tr>\n",
       "      <th>14</th>\n",
       "      <td>my grand son give me check for  i deposit it i...</td>\n",
       "      <td>my grand son give I check for   I deposit it i...</td>\n",
       "      <td>son chase account fund bank account pay money ...</td>\n",
       "      <td>son chase account fund bank account pay money ...</td>\n",
       "      <td>0</td>\n",
       "    </tr>\n",
       "    <tr>\n",
       "      <th>...</th>\n",
       "      <td>...</td>\n",
       "      <td>...</td>\n",
       "      <td>...</td>\n",
       "      <td>...</td>\n",
       "      <td>...</td>\n",
       "    </tr>\n",
       "    <tr>\n",
       "      <th>78303</th>\n",
       "      <td>after being a chase card customer for well ove...</td>\n",
       "      <td>after be a chase card customer for well over a...</td>\n",
       "      <td>card customer decade solicitation credit card ...</td>\n",
       "      <td>card customer decade solicitation credit card ...</td>\n",
       "      <td>1</td>\n",
       "    </tr>\n",
       "    <tr>\n",
       "      <th>78309</th>\n",
       "      <td>on wednesday xxxxxxxx i called chas my xxxx xx...</td>\n",
       "      <td>on wednesday xxxxxxxx I call chas my xxxx xxxx...</td>\n",
       "      <td>visa credit card provider claim purchase prote...</td>\n",
       "      <td>visa credit card provider claim purchase prote...</td>\n",
       "      <td>3</td>\n",
       "    </tr>\n",
       "    <tr>\n",
       "      <th>78310</th>\n",
       "      <td>i am not familiar with xxxx pay and did not un...</td>\n",
       "      <td>I be not familiar with xxxx pay and do not und...</td>\n",
       "      <td>pay risk provide consumer bank app chase year ...</td>\n",
       "      <td>pay risk provide consumer bank app chase year ...</td>\n",
       "      <td>3</td>\n",
       "    </tr>\n",
       "    <tr>\n",
       "      <th>78311</th>\n",
       "      <td>i have had flawless credit for  yrs ive had ch...</td>\n",
       "      <td>I have have flawless credit for   yrs I ve hav...</td>\n",
       "      <td>credit yrs credit card chase freedom xxxx prob...</td>\n",
       "      <td>credit yrs credit card chase freedom  problem ...</td>\n",
       "      <td>2</td>\n",
       "    </tr>\n",
       "    <tr>\n",
       "      <th>78312</th>\n",
       "      <td>roughly  years ago i closed out my accounts wi...</td>\n",
       "      <td>roughly   year ago I close out my account with...</td>\n",
       "      <td>year account jp bank xxxx order line credit ac...</td>\n",
       "      <td>year account jp bank  order line credit accoun...</td>\n",
       "      <td>2</td>\n",
       "    </tr>\n",
       "  </tbody>\n",
       "</table>\n",
       "<p>21072 rows × 5 columns</p>\n",
       "</div>"
      ],
      "text/plain": [
       "                                 complaint_what_happened  \\\n",
       "1      good morning my name is xxxx xxxx and i apprec...   \n",
       "2      i upgraded my xxxx xxxx card in  and was told ...   \n",
       "10     chase card was reported on  however fraudulent...   \n",
       "11     on  while trying to book a xxxx  xxxx  ticket ...   \n",
       "14     my grand son give me check for  i deposit it i...   \n",
       "...                                                  ...   \n",
       "78303  after being a chase card customer for well ove...   \n",
       "78309  on wednesday xxxxxxxx i called chas my xxxx xx...   \n",
       "78310  i am not familiar with xxxx pay and did not un...   \n",
       "78311  i have had flawless credit for  yrs ive had ch...   \n",
       "78312  roughly  years ago i closed out my accounts wi...   \n",
       "\n",
       "                                    lemmatized_complaint  \\\n",
       "1      good morning my name be xxxx xxxx and I apprec...   \n",
       "2      I upgrade my xxxx xxxx card in   and be tell b...   \n",
       "10     chase card be report on   however fraudulent a...   \n",
       "11     on   while try to book a xxxx   xxxx   ticket ...   \n",
       "14     my grand son give I check for   I deposit it i...   \n",
       "...                                                  ...   \n",
       "78303  after be a chase card customer for well over a...   \n",
       "78309  on wednesday xxxxxxxx I call chas my xxxx xxxx...   \n",
       "78310  I be not familiar with xxxx pay and do not und...   \n",
       "78311  I have have flawless credit for   yrs I ve hav...   \n",
       "78312  roughly   year ago I close out my account with...   \n",
       "\n",
       "                                   complaint_POS_removed  \\\n",
       "1      morning name stop bank cardmember service ask ...   \n",
       "2      card agent upgrade date agent information orde...   \n",
       "10     card report application identity consent servi...   \n",
       "11     try book xxxx ticket offer ticket card informa...   \n",
       "14     son chase account fund bank account pay money ...   \n",
       "...                                                  ...   \n",
       "78303  card customer decade solicitation credit card ...   \n",
       "78309  visa credit card provider claim purchase prote...   \n",
       "78310  pay risk provide consumer bank app chase year ...   \n",
       "78311  credit yrs credit card chase freedom xxxx prob...   \n",
       "78312  year account jp bank xxxx order line credit ac...   \n",
       "\n",
       "                                         Complaint_clean  Topic  \n",
       "1      morning name stop bank cardmember service ask ...      0  \n",
       "2      card agent upgrade date agent information orde...      1  \n",
       "10     card report application identity consent servi...      1  \n",
       "11     try book  ticket offer ticket card information...      1  \n",
       "14     son chase account fund bank account pay money ...      0  \n",
       "...                                                  ...    ...  \n",
       "78303  card customer decade solicitation credit card ...      1  \n",
       "78309  visa credit card provider claim purchase prote...      3  \n",
       "78310  pay risk provide consumer bank app chase year ...      3  \n",
       "78311  credit yrs credit card chase freedom  problem ...      2  \n",
       "78312  year account jp bank  order line credit accoun...      2  \n",
       "\n",
       "[21072 rows x 5 columns]"
      ]
     },
     "execution_count": 47,
     "metadata": {},
     "output_type": "execute_result"
    }
   ],
   "source": [
    "df_clean"
   ]
  },
  {
   "cell_type": "code",
   "execution_count": 48,
   "metadata": {
    "id": "aQKpufSPJrGG"
   },
   "outputs": [
    {
     "data": {
      "text/html": [
       "<div>\n",
       "<style scoped>\n",
       "    .dataframe tbody tr th:only-of-type {\n",
       "        vertical-align: middle;\n",
       "    }\n",
       "\n",
       "    .dataframe tbody tr th {\n",
       "        vertical-align: top;\n",
       "    }\n",
       "\n",
       "    .dataframe thead th {\n",
       "        text-align: right;\n",
       "    }\n",
       "</style>\n",
       "<table border=\"1\" class=\"dataframe\">\n",
       "  <thead>\n",
       "    <tr style=\"text-align: right;\">\n",
       "      <th></th>\n",
       "      <th>complaint_what_happened</th>\n",
       "      <th>lemmatized_complaint</th>\n",
       "      <th>complaint_POS_removed</th>\n",
       "      <th>Complaint_clean</th>\n",
       "      <th>Topic</th>\n",
       "    </tr>\n",
       "  </thead>\n",
       "  <tbody>\n",
       "    <tr>\n",
       "      <th>1</th>\n",
       "      <td>good morning my name is xxxx xxxx and i apprec...</td>\n",
       "      <td>good morning my name be xxxx xxxx and I apprec...</td>\n",
       "      <td>morning name stop bank cardmember service ask ...</td>\n",
       "      <td>morning name stop bank cardmember service ask ...</td>\n",
       "      <td>0</td>\n",
       "    </tr>\n",
       "    <tr>\n",
       "      <th>14</th>\n",
       "      <td>my grand son give me check for  i deposit it i...</td>\n",
       "      <td>my grand son give I check for   I deposit it i...</td>\n",
       "      <td>son chase account fund bank account pay money ...</td>\n",
       "      <td>son chase account fund bank account pay money ...</td>\n",
       "      <td>0</td>\n",
       "    </tr>\n",
       "    <tr>\n",
       "      <th>17</th>\n",
       "      <td>with out notice jp morgan chase restricted my ...</td>\n",
       "      <td>with out notice jp morgan chase restrict my ac...</td>\n",
       "      <td>jp chase account debit card tuesday thursday b...</td>\n",
       "      <td>jp chase account debit card tuesday thursday b...</td>\n",
       "      <td>0</td>\n",
       "    </tr>\n",
       "    <tr>\n",
       "      <th>24</th>\n",
       "      <td>mishandling of this account by chase auto and ...</td>\n",
       "      <td>mishandle of this account by chase auto and xxxx</td>\n",
       "      <td>mishandle account auto xxxx</td>\n",
       "      <td>mishandle account auto</td>\n",
       "      <td>0</td>\n",
       "    </tr>\n",
       "    <tr>\n",
       "      <th>27</th>\n",
       "      <td>i opened an account with chase bank on xxxx an...</td>\n",
       "      <td>I open an account with chase bank on xxxx and ...</td>\n",
       "      <td>account bank code bonus term everything accoun...</td>\n",
       "      <td>account bank code bonus term everything accoun...</td>\n",
       "      <td>0</td>\n",
       "    </tr>\n",
       "    <tr>\n",
       "      <th>2</th>\n",
       "      <td>i upgraded my xxxx xxxx card in  and was told ...</td>\n",
       "      <td>I upgrade my xxxx xxxx card in   and be tell b...</td>\n",
       "      <td>card agent upgrade date agent information orde...</td>\n",
       "      <td>card agent upgrade date agent information orde...</td>\n",
       "      <td>1</td>\n",
       "    </tr>\n",
       "    <tr>\n",
       "      <th>10</th>\n",
       "      <td>chase card was reported on  however fraudulent...</td>\n",
       "      <td>chase card be report on   however fraudulent a...</td>\n",
       "      <td>card report application identity consent servi...</td>\n",
       "      <td>card report application identity consent servi...</td>\n",
       "      <td>1</td>\n",
       "    </tr>\n",
       "    <tr>\n",
       "      <th>11</th>\n",
       "      <td>on  while trying to book a xxxx  xxxx  ticket ...</td>\n",
       "      <td>on   while try to book a xxxx   xxxx   ticket ...</td>\n",
       "      <td>try book xxxx ticket offer ticket card informa...</td>\n",
       "      <td>try book  ticket offer ticket card information...</td>\n",
       "      <td>1</td>\n",
       "    </tr>\n",
       "    <tr>\n",
       "      <th>15</th>\n",
       "      <td>can you please remove inquiry</td>\n",
       "      <td>can you please remove inquiry</td>\n",
       "      <td>inquiry</td>\n",
       "      <td>inquiry</td>\n",
       "      <td>1</td>\n",
       "    </tr>\n",
       "    <tr>\n",
       "      <th>23</th>\n",
       "      <td>i have a chase credit card which is incorrectl...</td>\n",
       "      <td>I have a chase credit card which be incorrectl...</td>\n",
       "      <td>chase credit card datum credit report company ...</td>\n",
       "      <td>chase credit card datum credit report company ...</td>\n",
       "      <td>1</td>\n",
       "    </tr>\n",
       "    <tr>\n",
       "      <th>82</th>\n",
       "      <td>i recently called to ask chase bank why they r...</td>\n",
       "      <td>I recently call to ask chase bank why they rep...</td>\n",
       "      <td>bank credit bureau day payment info xxxx bill ...</td>\n",
       "      <td>bank credit bureau day payment info  bill bala...</td>\n",
       "      <td>2</td>\n",
       "    </tr>\n",
       "    <tr>\n",
       "      <th>58</th>\n",
       "      <td>i made a purchase of  on xxxxxxxx i made payme...</td>\n",
       "      <td>I make a purchase of   on xxxxxxxx I make paym...</td>\n",
       "      <td>purchase xxxxxxxx payment xxxxxxxx payment clo...</td>\n",
       "      <td>purchase  payment  payment closing date please...</td>\n",
       "      <td>2</td>\n",
       "    </tr>\n",
       "    <tr>\n",
       "      <th>167</th>\n",
       "      <td>a double payment from my chase debt cart to ch...</td>\n",
       "      <td>a double payment from my chase debt cart to ch...</td>\n",
       "      <td>payment debt cart credit card post request day...</td>\n",
       "      <td>payment debt cart credit card post request day...</td>\n",
       "      <td>2</td>\n",
       "    </tr>\n",
       "    <tr>\n",
       "      <th>20</th>\n",
       "      <td>during the summer months i experience a declin...</td>\n",
       "      <td>during the summer month I experience a decline...</td>\n",
       "      <td>summer month income employment month payment e...</td>\n",
       "      <td>summer month income employment month payment e...</td>\n",
       "      <td>2</td>\n",
       "    </tr>\n",
       "    <tr>\n",
       "      <th>141</th>\n",
       "      <td>action taken by the company between the dates ...</td>\n",
       "      <td>action take by the company between the date of...</td>\n",
       "      <td>action company date individual group contact c...</td>\n",
       "      <td>action company date individual group contact c...</td>\n",
       "      <td>2</td>\n",
       "    </tr>\n",
       "    <tr>\n",
       "      <th>32</th>\n",
       "      <td>my chase amazon card was declined for a cateri...</td>\n",
       "      <td>my chase amazon card be decline for a catering...</td>\n",
       "      <td>chase card decline catering order place brothe...</td>\n",
       "      <td>chase card decline catering order place brothe...</td>\n",
       "      <td>3</td>\n",
       "    </tr>\n",
       "    <tr>\n",
       "      <th>40</th>\n",
       "      <td>xxxx xxxx a sofa love seat table and chairs an...</td>\n",
       "      <td>xxxx xxxx a sofa love seat table and chair and...</td>\n",
       "      <td>xxxx love seat table chair charge bank claim f...</td>\n",
       "      <td>love seat table chair charge bank claim furni...</td>\n",
       "      <td>3</td>\n",
       "    </tr>\n",
       "    <tr>\n",
       "      <th>45</th>\n",
       "      <td>i made a purchase with xxxx xxxx xxxx on  in t...</td>\n",
       "      <td>I make a purchase with xxxx xxxx xxxx on   in ...</td>\n",
       "      <td>purchase amount transaction dispute case bank ...</td>\n",
       "      <td>purchase amount transaction dispute case bank ...</td>\n",
       "      <td>3</td>\n",
       "    </tr>\n",
       "    <tr>\n",
       "      <th>21</th>\n",
       "      <td>on xxxx  i made a  payment to an online retail...</td>\n",
       "      <td>on xxxx   I make a   payment to an online reta...</td>\n",
       "      <td>xxxx payment online retailer use pay xxxx chas...</td>\n",
       "      <td>payment online retailer use pay  chase websit...</td>\n",
       "      <td>3</td>\n",
       "    </tr>\n",
       "    <tr>\n",
       "      <th>30</th>\n",
       "      <td>to whom it may concern chase bank charged wron...</td>\n",
       "      <td>to whom it may concern chase bank charge wrong...</td>\n",
       "      <td>concern bank charge fee balance fee balance tr...</td>\n",
       "      <td>concern bank charge fee balance fee balance tr...</td>\n",
       "      <td>3</td>\n",
       "    </tr>\n",
       "    <tr>\n",
       "      <th>57</th>\n",
       "      <td>i have been trying to do a loan modification w...</td>\n",
       "      <td>I have be try to do a loan modification with c...</td>\n",
       "      <td>loan modification chase runaround payment doc</td>\n",
       "      <td>loan modification chase runaround payment doc</td>\n",
       "      <td>4</td>\n",
       "    </tr>\n",
       "    <tr>\n",
       "      <th>73</th>\n",
       "      <td>i have wired through one of chase branches in ...</td>\n",
       "      <td>I have wire through one of chase branch in xxx...</td>\n",
       "      <td>chase branch reinstatement amount bank order f...</td>\n",
       "      <td>chase branch reinstatement amount bank order f...</td>\n",
       "      <td>4</td>\n",
       "    </tr>\n",
       "    <tr>\n",
       "      <th>81</th>\n",
       "      <td>i bought a new xxxx xxxx on xxxxxxxx from xxxx...</td>\n",
       "      <td>I buy a new xxxx xxxx on xxxxxxxx from xxxx xx...</td>\n",
       "      <td>xxxx xxxxxxxx loan title time resolution time ...</td>\n",
       "      <td>loan title time resolution time nothing stat...</td>\n",
       "      <td>4</td>\n",
       "    </tr>\n",
       "    <tr>\n",
       "      <th>99</th>\n",
       "      <td>my name is xxxx xxxx i have missed a payment i...</td>\n",
       "      <td>my name be xxxx xxxx I have miss a payment in ...</td>\n",
       "      <td>name xxxx payment day time loan modification l...</td>\n",
       "      <td>name  payment day time loan modification loss ...</td>\n",
       "      <td>4</td>\n",
       "    </tr>\n",
       "    <tr>\n",
       "      <th>127</th>\n",
       "      <td>i am xxxx military member  xxxx  with the xxxx...</td>\n",
       "      <td>I be xxxx military member   xxxx   with the xx...</td>\n",
       "      <td>member xxxx auto finance gap insurancewaiver c...</td>\n",
       "      <td>member  auto finance gap insurancewaiver cover...</td>\n",
       "      <td>4</td>\n",
       "    </tr>\n",
       "  </tbody>\n",
       "</table>\n",
       "</div>"
      ],
      "text/plain": [
       "                               complaint_what_happened  \\\n",
       "1    good morning my name is xxxx xxxx and i apprec...   \n",
       "14   my grand son give me check for  i deposit it i...   \n",
       "17   with out notice jp morgan chase restricted my ...   \n",
       "24   mishandling of this account by chase auto and ...   \n",
       "27   i opened an account with chase bank on xxxx an...   \n",
       "2    i upgraded my xxxx xxxx card in  and was told ...   \n",
       "10   chase card was reported on  however fraudulent...   \n",
       "11   on  while trying to book a xxxx  xxxx  ticket ...   \n",
       "15                       can you please remove inquiry   \n",
       "23   i have a chase credit card which is incorrectl...   \n",
       "82   i recently called to ask chase bank why they r...   \n",
       "58   i made a purchase of  on xxxxxxxx i made payme...   \n",
       "167  a double payment from my chase debt cart to ch...   \n",
       "20   during the summer months i experience a declin...   \n",
       "141  action taken by the company between the dates ...   \n",
       "32   my chase amazon card was declined for a cateri...   \n",
       "40   xxxx xxxx a sofa love seat table and chairs an...   \n",
       "45   i made a purchase with xxxx xxxx xxxx on  in t...   \n",
       "21   on xxxx  i made a  payment to an online retail...   \n",
       "30   to whom it may concern chase bank charged wron...   \n",
       "57   i have been trying to do a loan modification w...   \n",
       "73   i have wired through one of chase branches in ...   \n",
       "81   i bought a new xxxx xxxx on xxxxxxxx from xxxx...   \n",
       "99   my name is xxxx xxxx i have missed a payment i...   \n",
       "127  i am xxxx military member  xxxx  with the xxxx...   \n",
       "\n",
       "                                  lemmatized_complaint  \\\n",
       "1    good morning my name be xxxx xxxx and I apprec...   \n",
       "14   my grand son give I check for   I deposit it i...   \n",
       "17   with out notice jp morgan chase restrict my ac...   \n",
       "24    mishandle of this account by chase auto and xxxx   \n",
       "27   I open an account with chase bank on xxxx and ...   \n",
       "2    I upgrade my xxxx xxxx card in   and be tell b...   \n",
       "10   chase card be report on   however fraudulent a...   \n",
       "11   on   while try to book a xxxx   xxxx   ticket ...   \n",
       "15                       can you please remove inquiry   \n",
       "23   I have a chase credit card which be incorrectl...   \n",
       "82   I recently call to ask chase bank why they rep...   \n",
       "58   I make a purchase of   on xxxxxxxx I make paym...   \n",
       "167  a double payment from my chase debt cart to ch...   \n",
       "20   during the summer month I experience a decline...   \n",
       "141  action take by the company between the date of...   \n",
       "32   my chase amazon card be decline for a catering...   \n",
       "40   xxxx xxxx a sofa love seat table and chair and...   \n",
       "45   I make a purchase with xxxx xxxx xxxx on   in ...   \n",
       "21   on xxxx   I make a   payment to an online reta...   \n",
       "30   to whom it may concern chase bank charge wrong...   \n",
       "57   I have be try to do a loan modification with c...   \n",
       "73   I have wire through one of chase branch in xxx...   \n",
       "81   I buy a new xxxx xxxx on xxxxxxxx from xxxx xx...   \n",
       "99   my name be xxxx xxxx I have miss a payment in ...   \n",
       "127  I be xxxx military member   xxxx   with the xx...   \n",
       "\n",
       "                                 complaint_POS_removed  \\\n",
       "1    morning name stop bank cardmember service ask ...   \n",
       "14   son chase account fund bank account pay money ...   \n",
       "17   jp chase account debit card tuesday thursday b...   \n",
       "24                         mishandle account auto xxxx   \n",
       "27   account bank code bonus term everything accoun...   \n",
       "2    card agent upgrade date agent information orde...   \n",
       "10   card report application identity consent servi...   \n",
       "11   try book xxxx ticket offer ticket card informa...   \n",
       "15                                             inquiry   \n",
       "23   chase credit card datum credit report company ...   \n",
       "82   bank credit bureau day payment info xxxx bill ...   \n",
       "58   purchase xxxxxxxx payment xxxxxxxx payment clo...   \n",
       "167  payment debt cart credit card post request day...   \n",
       "20   summer month income employment month payment e...   \n",
       "141  action company date individual group contact c...   \n",
       "32   chase card decline catering order place brothe...   \n",
       "40   xxxx love seat table chair charge bank claim f...   \n",
       "45   purchase amount transaction dispute case bank ...   \n",
       "21   xxxx payment online retailer use pay xxxx chas...   \n",
       "30   concern bank charge fee balance fee balance tr...   \n",
       "57       loan modification chase runaround payment doc   \n",
       "73   chase branch reinstatement amount bank order f...   \n",
       "81   xxxx xxxxxxxx loan title time resolution time ...   \n",
       "99   name xxxx payment day time loan modification l...   \n",
       "127  member xxxx auto finance gap insurancewaiver c...   \n",
       "\n",
       "                                       Complaint_clean  Topic  \n",
       "1    morning name stop bank cardmember service ask ...      0  \n",
       "14   son chase account fund bank account pay money ...      0  \n",
       "17   jp chase account debit card tuesday thursday b...      0  \n",
       "24                             mishandle account auto       0  \n",
       "27   account bank code bonus term everything accoun...      0  \n",
       "2    card agent upgrade date agent information orde...      1  \n",
       "10   card report application identity consent servi...      1  \n",
       "11   try book  ticket offer ticket card information...      1  \n",
       "15                                             inquiry      1  \n",
       "23   chase credit card datum credit report company ...      1  \n",
       "82   bank credit bureau day payment info  bill bala...      2  \n",
       "58   purchase  payment  payment closing date please...      2  \n",
       "167  payment debt cart credit card post request day...      2  \n",
       "20   summer month income employment month payment e...      2  \n",
       "141  action company date individual group contact c...      2  \n",
       "32   chase card decline catering order place brothe...      3  \n",
       "40    love seat table chair charge bank claim furni...      3  \n",
       "45   purchase amount transaction dispute case bank ...      3  \n",
       "21    payment online retailer use pay  chase websit...      3  \n",
       "30   concern bank charge fee balance fee balance tr...      3  \n",
       "57       loan modification chase runaround payment doc      4  \n",
       "73   chase branch reinstatement amount bank order f...      4  \n",
       "81     loan title time resolution time nothing stat...      4  \n",
       "99   name  payment day time loan modification loss ...      4  \n",
       "127  member  auto finance gap insurancewaiver cover...      4  "
      ]
     },
     "execution_count": 48,
     "metadata": {},
     "output_type": "execute_result"
    }
   ],
   "source": [
    "#Print the first 5 Complaint for each of the Topics\n",
    "df_clean_5=df_clean.groupby('Topic').head(5)\n",
    "df_clean_5.sort_values('Topic')"
   ]
  },
  {
   "cell_type": "markdown",
   "metadata": {
    "id": "piyLxzj6v07j"
   },
   "source": [
    "#### After evaluating the mapping, if the topics assigned are correct then assign these names to the relevant topic:\n",
    "* Bank Account services\n",
    "* Credit card or prepaid card\n",
    "* Theft/Dispute Reporting\n",
    "* Mortgage/Loan\n",
    "* Others"
   ]
  },
  {
   "cell_type": "code",
   "execution_count": 49,
   "metadata": {
    "id": "TWpwDG4RJrGG"
   },
   "outputs": [],
   "source": [
    "#Create the dictionary of Topic names and Topics\n",
    "\n",
    "Topic_names = { 0:\"Bank account services\", 1:\"Credit card / Prepaid card\", 2:\"Others\",\n",
    "               3:\"Theft/Dispute reporting\", 4:\"Mortgages/loans\" }\n",
    "#Replace Topics with Topic Names\n",
    "df_clean['Topic'] = df_clean['Topic'].map(Topic_names)"
   ]
  },
  {
   "cell_type": "code",
   "execution_count": 50,
   "metadata": {
    "id": "-2ULY5K6JrGG"
   },
   "outputs": [
    {
     "data": {
      "text/plain": [
       "(21072, 5)"
      ]
     },
     "execution_count": 50,
     "metadata": {},
     "output_type": "execute_result"
    }
   ],
   "source": [
    "df_clean.shape"
   ]
  },
  {
   "cell_type": "markdown",
   "metadata": {
    "id": "7Mu0QBOcJrGH"
   },
   "source": [
    "## Supervised model to predict any new complaints to the relevant Topics.\n",
    "\n",
    "You have now build the model to create the topics for each complaints.Now in the below section you will use them to classify any new complaints.\n",
    "\n",
    "Since you will be using supervised learning technique we have to convert the topic names to numbers(numpy arrays only understand numbers)"
   ]
  },
  {
   "cell_type": "code",
   "execution_count": 51,
   "metadata": {
    "id": "_U8J3J8wJrGH"
   },
   "outputs": [],
   "source": [
    "#Create the dictionary again of Topic names and Topics\n",
    "\n",
    "Topic_names = { \"Bank account services\":0, \"Credit card / Prepaid card\":1, \"Others\":2,\n",
    "               \"Theft/Dispute reporting\":3, \"Mortgages/loans\":4 }\n",
    "#Replace Topics with Topic Names\n",
    "df_clean['Topic'] = df_clean['Topic'].map(Topic_names)"
   ]
  },
  {
   "cell_type": "code",
   "execution_count": 52,
   "metadata": {
    "id": "BWIgJUkQJrGH"
   },
   "outputs": [
    {
     "data": {
      "text/html": [
       "<div>\n",
       "<style scoped>\n",
       "    .dataframe tbody tr th:only-of-type {\n",
       "        vertical-align: middle;\n",
       "    }\n",
       "\n",
       "    .dataframe tbody tr th {\n",
       "        vertical-align: top;\n",
       "    }\n",
       "\n",
       "    .dataframe thead th {\n",
       "        text-align: right;\n",
       "    }\n",
       "</style>\n",
       "<table border=\"1\" class=\"dataframe\">\n",
       "  <thead>\n",
       "    <tr style=\"text-align: right;\">\n",
       "      <th></th>\n",
       "      <th>complaint_what_happened</th>\n",
       "      <th>lemmatized_complaint</th>\n",
       "      <th>complaint_POS_removed</th>\n",
       "      <th>Complaint_clean</th>\n",
       "      <th>Topic</th>\n",
       "    </tr>\n",
       "  </thead>\n",
       "  <tbody>\n",
       "    <tr>\n",
       "      <th>1</th>\n",
       "      <td>good morning my name is xxxx xxxx and i apprec...</td>\n",
       "      <td>good morning my name be xxxx xxxx and I apprec...</td>\n",
       "      <td>morning name stop bank cardmember service ask ...</td>\n",
       "      <td>morning name stop bank cardmember service ask ...</td>\n",
       "      <td>0</td>\n",
       "    </tr>\n",
       "    <tr>\n",
       "      <th>2</th>\n",
       "      <td>i upgraded my xxxx xxxx card in  and was told ...</td>\n",
       "      <td>I upgrade my xxxx xxxx card in   and be tell b...</td>\n",
       "      <td>card agent upgrade date agent information orde...</td>\n",
       "      <td>card agent upgrade date agent information orde...</td>\n",
       "      <td>1</td>\n",
       "    </tr>\n",
       "    <tr>\n",
       "      <th>10</th>\n",
       "      <td>chase card was reported on  however fraudulent...</td>\n",
       "      <td>chase card be report on   however fraudulent a...</td>\n",
       "      <td>card report application identity consent servi...</td>\n",
       "      <td>card report application identity consent servi...</td>\n",
       "      <td>1</td>\n",
       "    </tr>\n",
       "    <tr>\n",
       "      <th>11</th>\n",
       "      <td>on  while trying to book a xxxx  xxxx  ticket ...</td>\n",
       "      <td>on   while try to book a xxxx   xxxx   ticket ...</td>\n",
       "      <td>try book xxxx ticket offer ticket card informa...</td>\n",
       "      <td>try book  ticket offer ticket card information...</td>\n",
       "      <td>1</td>\n",
       "    </tr>\n",
       "    <tr>\n",
       "      <th>14</th>\n",
       "      <td>my grand son give me check for  i deposit it i...</td>\n",
       "      <td>my grand son give I check for   I deposit it i...</td>\n",
       "      <td>son chase account fund bank account pay money ...</td>\n",
       "      <td>son chase account fund bank account pay money ...</td>\n",
       "      <td>0</td>\n",
       "    </tr>\n",
       "    <tr>\n",
       "      <th>...</th>\n",
       "      <td>...</td>\n",
       "      <td>...</td>\n",
       "      <td>...</td>\n",
       "      <td>...</td>\n",
       "      <td>...</td>\n",
       "    </tr>\n",
       "    <tr>\n",
       "      <th>78303</th>\n",
       "      <td>after being a chase card customer for well ove...</td>\n",
       "      <td>after be a chase card customer for well over a...</td>\n",
       "      <td>card customer decade solicitation credit card ...</td>\n",
       "      <td>card customer decade solicitation credit card ...</td>\n",
       "      <td>1</td>\n",
       "    </tr>\n",
       "    <tr>\n",
       "      <th>78309</th>\n",
       "      <td>on wednesday xxxxxxxx i called chas my xxxx xx...</td>\n",
       "      <td>on wednesday xxxxxxxx I call chas my xxxx xxxx...</td>\n",
       "      <td>visa credit card provider claim purchase prote...</td>\n",
       "      <td>visa credit card provider claim purchase prote...</td>\n",
       "      <td>3</td>\n",
       "    </tr>\n",
       "    <tr>\n",
       "      <th>78310</th>\n",
       "      <td>i am not familiar with xxxx pay and did not un...</td>\n",
       "      <td>I be not familiar with xxxx pay and do not und...</td>\n",
       "      <td>pay risk provide consumer bank app chase year ...</td>\n",
       "      <td>pay risk provide consumer bank app chase year ...</td>\n",
       "      <td>3</td>\n",
       "    </tr>\n",
       "    <tr>\n",
       "      <th>78311</th>\n",
       "      <td>i have had flawless credit for  yrs ive had ch...</td>\n",
       "      <td>I have have flawless credit for   yrs I ve hav...</td>\n",
       "      <td>credit yrs credit card chase freedom xxxx prob...</td>\n",
       "      <td>credit yrs credit card chase freedom  problem ...</td>\n",
       "      <td>2</td>\n",
       "    </tr>\n",
       "    <tr>\n",
       "      <th>78312</th>\n",
       "      <td>roughly  years ago i closed out my accounts wi...</td>\n",
       "      <td>roughly   year ago I close out my account with...</td>\n",
       "      <td>year account jp bank xxxx order line credit ac...</td>\n",
       "      <td>year account jp bank  order line credit accoun...</td>\n",
       "      <td>2</td>\n",
       "    </tr>\n",
       "  </tbody>\n",
       "</table>\n",
       "<p>21072 rows × 5 columns</p>\n",
       "</div>"
      ],
      "text/plain": [
       "                                 complaint_what_happened  \\\n",
       "1      good morning my name is xxxx xxxx and i apprec...   \n",
       "2      i upgraded my xxxx xxxx card in  and was told ...   \n",
       "10     chase card was reported on  however fraudulent...   \n",
       "11     on  while trying to book a xxxx  xxxx  ticket ...   \n",
       "14     my grand son give me check for  i deposit it i...   \n",
       "...                                                  ...   \n",
       "78303  after being a chase card customer for well ove...   \n",
       "78309  on wednesday xxxxxxxx i called chas my xxxx xx...   \n",
       "78310  i am not familiar with xxxx pay and did not un...   \n",
       "78311  i have had flawless credit for  yrs ive had ch...   \n",
       "78312  roughly  years ago i closed out my accounts wi...   \n",
       "\n",
       "                                    lemmatized_complaint  \\\n",
       "1      good morning my name be xxxx xxxx and I apprec...   \n",
       "2      I upgrade my xxxx xxxx card in   and be tell b...   \n",
       "10     chase card be report on   however fraudulent a...   \n",
       "11     on   while try to book a xxxx   xxxx   ticket ...   \n",
       "14     my grand son give I check for   I deposit it i...   \n",
       "...                                                  ...   \n",
       "78303  after be a chase card customer for well over a...   \n",
       "78309  on wednesday xxxxxxxx I call chas my xxxx xxxx...   \n",
       "78310  I be not familiar with xxxx pay and do not und...   \n",
       "78311  I have have flawless credit for   yrs I ve hav...   \n",
       "78312  roughly   year ago I close out my account with...   \n",
       "\n",
       "                                   complaint_POS_removed  \\\n",
       "1      morning name stop bank cardmember service ask ...   \n",
       "2      card agent upgrade date agent information orde...   \n",
       "10     card report application identity consent servi...   \n",
       "11     try book xxxx ticket offer ticket card informa...   \n",
       "14     son chase account fund bank account pay money ...   \n",
       "...                                                  ...   \n",
       "78303  card customer decade solicitation credit card ...   \n",
       "78309  visa credit card provider claim purchase prote...   \n",
       "78310  pay risk provide consumer bank app chase year ...   \n",
       "78311  credit yrs credit card chase freedom xxxx prob...   \n",
       "78312  year account jp bank xxxx order line credit ac...   \n",
       "\n",
       "                                         Complaint_clean  Topic  \n",
       "1      morning name stop bank cardmember service ask ...      0  \n",
       "2      card agent upgrade date agent information orde...      1  \n",
       "10     card report application identity consent servi...      1  \n",
       "11     try book  ticket offer ticket card information...      1  \n",
       "14     son chase account fund bank account pay money ...      0  \n",
       "...                                                  ...    ...  \n",
       "78303  card customer decade solicitation credit card ...      1  \n",
       "78309  visa credit card provider claim purchase prote...      3  \n",
       "78310  pay risk provide consumer bank app chase year ...      3  \n",
       "78311  credit yrs credit card chase freedom  problem ...      2  \n",
       "78312  year account jp bank  order line credit accoun...      2  \n",
       "\n",
       "[21072 rows x 5 columns]"
      ]
     },
     "execution_count": 52,
     "metadata": {},
     "output_type": "execute_result"
    }
   ],
   "source": [
    "df_clean"
   ]
  },
  {
   "cell_type": "code",
   "execution_count": 53,
   "metadata": {
    "id": "Xx-FrbkWJrGH"
   },
   "outputs": [],
   "source": [
    "#Keep the columns\"complaint_what_happened\" & \"Topic\" only in the new dataframe --> training_data\n",
    "training_data = df_clean[['complaint_what_happened', 'Topic']]"
   ]
  },
  {
   "cell_type": "code",
   "execution_count": 54,
   "metadata": {
    "id": "lVg2pa12JrGI"
   },
   "outputs": [
    {
     "data": {
      "text/plain": [
       "(21072, 2)"
      ]
     },
     "execution_count": 54,
     "metadata": {},
     "output_type": "execute_result"
    }
   ],
   "source": [
    "training_data.shape"
   ]
  },
  {
   "cell_type": "markdown",
   "metadata": {
    "id": "280Vbqk-7a8M"
   },
   "source": [
    "#### Apply the supervised models on the training data created. In this process, you have to do the following:\n",
    "* Create the vector counts using Count Vectoriser\n",
    "* Transform the word vector to tf-idf\n",
    "* Create the train & test data using the train_test_split on the tf-idf & topics\n"
   ]
  },
  {
   "cell_type": "code",
   "execution_count": 55,
   "metadata": {
    "id": "oUlQpgkzJrGI"
   },
   "outputs": [],
   "source": [
    "#Write your code to get the Vector count\n",
    "vect = CountVectorizer()\n",
    "X_train_cnt = vect.fit_transform(training_data['complaint_what_happened'])\n",
    "\n",
    "#Write your code here to transform the word vector to tf-idf\n",
    "tfidf_transformer = TfidfTransformer()\n",
    "X_train_tfidf = tfidf_transformer.fit_transform(X_train_cnt)"
   ]
  },
  {
   "cell_type": "markdown",
   "metadata": {
    "id": "uMU3vj6w-wqL"
   },
   "source": [
    "You have to try atleast 3 models on the train & test data from these options:\n",
    "* Logistic regression\n",
    "* Decision Tree\n",
    "* Random Forest\n",
    "* Naive Bayes (optional)\n",
    "\n",
    "**Using the required evaluation metrics judge the tried models and select the ones performing the best**"
   ]
  },
  {
   "cell_type": "markdown",
   "metadata": {
    "id": "udLHpPsZJrGI"
   },
   "source": [
    "### 1.Logistic Regression:\n",
    "\n",
    "\n",
    "\n"
   ]
  },
  {
   "cell_type": "code",
   "execution_count": 56,
   "metadata": {},
   "outputs": [],
   "source": [
    "# Write your code here to build any 3 models and evaluate them using the required metrics\n",
    "# Importing LogisticRegression from sklearn\n",
    "from sklearn.linear_model import LogisticRegression\n",
    "# Importing Train, Test Split\n",
    "from sklearn.model_selection import train_test_split\n",
    "# Importing Confusion Matrix\n",
    "from sklearn.metrics import confusion_matrix"
   ]
  },
  {
   "cell_type": "code",
   "execution_count": 57,
   "metadata": {
    "id": "N2OznsObJrGP"
   },
   "outputs": [],
   "source": [
    "# Train, Test Split\n",
    "X_train, X_test, y_train, y_test = train_test_split(X_train_tfidf, training_data['Topic'], test_size=0.30, random_state=100)"
   ]
  },
  {
   "cell_type": "code",
   "execution_count": 58,
   "metadata": {},
   "outputs": [
    {
     "name": "stderr",
     "output_type": "stream",
     "text": [
      "C:\\Users\\sandi\\Anaconda3\\lib\\site-packages\\sklearn\\linear_model\\_logistic.py:818: ConvergenceWarning:\n",
      "\n",
      "lbfgs failed to converge (status=1):\n",
      "STOP: TOTAL NO. of ITERATIONS REACHED LIMIT.\n",
      "\n",
      "Increase the number of iterations (max_iter) or scale the data as shown in:\n",
      "    https://scikit-learn.org/stable/modules/preprocessing.html\n",
      "Please also refer to the documentation for alternative solver options:\n",
      "    https://scikit-learn.org/stable/modules/linear_model.html#logistic-regression\n",
      "\n"
     ]
    },
    {
     "data": {
      "text/plain": [
       "LogisticRegression()"
      ]
     },
     "execution_count": 58,
     "metadata": {},
     "output_type": "execute_result"
    }
   ],
   "source": [
    "log_model = LogisticRegression()\n",
    "log_model.fit(X_train, y_train)"
   ]
  },
  {
   "cell_type": "code",
   "execution_count": 59,
   "metadata": {},
   "outputs": [],
   "source": [
    "predictions = log_model.predict(X_test)"
   ]
  },
  {
   "cell_type": "code",
   "execution_count": 60,
   "metadata": {},
   "outputs": [
    {
     "data": {
      "text/plain": [
       "array([[1457,   21,    6,   42,   16],\n",
       "       [  20, 1398,    7,   50,   12],\n",
       "       [  28,   27,  545,   33,   30],\n",
       "       [  50,   49,    9, 1334,   22],\n",
       "       [  42,   37,    8,   20, 1059]], dtype=int64)"
      ]
     },
     "execution_count": 60,
     "metadata": {},
     "output_type": "execute_result"
    }
   ],
   "source": [
    "confusion_matrix(y_test, predictions)"
   ]
  },
  {
   "cell_type": "code",
   "execution_count": 61,
   "metadata": {},
   "outputs": [
    {
     "data": {
      "text/plain": [
       "0.9163239481176843"
      ]
     },
     "execution_count": 61,
     "metadata": {},
     "output_type": "execute_result"
    }
   ],
   "source": [
    "from sklearn.metrics import accuracy_score\n",
    "accuracy_score(y_test, predictions)"
   ]
  },
  {
   "cell_type": "markdown",
   "metadata": {},
   "source": [
    "#### Hyperparameter Tuning:"
   ]
  },
  {
   "cell_type": "code",
   "execution_count": 62,
   "metadata": {},
   "outputs": [],
   "source": [
    "log_model_grid = {\"C\": [100, 10, 5, 4, 3, 2, 1, 1.0, 0.1, 0.01],\n",
    "                \"solver\": [\"liblinear\"]}"
   ]
  },
  {
   "cell_type": "code",
   "execution_count": 63,
   "metadata": {},
   "outputs": [
    {
     "name": "stdout",
     "output_type": "stream",
     "text": [
      "Fitting 5 folds for each of 10 candidates, totalling 50 fits\n"
     ]
    }
   ],
   "source": [
    "# Setup grid hyperparameter search for LogisticRegression\n",
    "log_model_hpt = GridSearchCV(LogisticRegression(random_state=42),\n",
    "                                param_grid=log_model_grid,\n",
    "                                cv=5,\n",
    "                                verbose=True,\n",
    "                                n_jobs=-1)\n",
    "\n",
    "# Fit random hyperparameter search model\n",
    "log_model_hpt.fit(X_train, y_train);"
   ]
  },
  {
   "cell_type": "code",
   "execution_count": 64,
   "metadata": {},
   "outputs": [
    {
     "data": {
      "text/plain": [
       "{'C': 5, 'solver': 'liblinear'}"
      ]
     },
     "execution_count": 64,
     "metadata": {},
     "output_type": "execute_result"
    }
   ],
   "source": [
    "# Check best parameters\n",
    "log_model_hpt.best_params_"
   ]
  },
  {
   "cell_type": "markdown",
   "metadata": {},
   "source": [
    "#### Model Evaluation:"
   ]
  },
  {
   "cell_type": "code",
   "execution_count": 65,
   "metadata": {},
   "outputs": [
    {
     "data": {
      "text/plain": [
       "0.9174311926605505"
      ]
     },
     "execution_count": 65,
     "metadata": {},
     "output_type": "execute_result"
    }
   ],
   "source": [
    "# Evaluating the tuned model\n",
    "log_model_hpt.score(X_test, y_test)"
   ]
  },
  {
   "cell_type": "code",
   "execution_count": 66,
   "metadata": {},
   "outputs": [],
   "source": [
    "# Make predictions on test data\n",
    "y_pred = log_model_hpt.predict(X_test)"
   ]
  },
  {
   "cell_type": "code",
   "execution_count": 67,
   "metadata": {},
   "outputs": [
    {
     "name": "stdout",
     "output_type": "stream",
     "text": [
      "[[1452   21    9   47   13]\n",
      " [  23 1402   10   42   10]\n",
      " [  17   28  570   25   23]\n",
      " [  55   52   14 1317   26]\n",
      " [  41   35   13   18 1059]]\n"
     ]
    }
   ],
   "source": [
    "# Print Confusion Matrix\n",
    "print(confusion_matrix(y_test, y_pred))"
   ]
  },
  {
   "cell_type": "code",
   "execution_count": 68,
   "metadata": {},
   "outputs": [],
   "source": [
    "topic_name = [\"Bank account services\", \"Credit card / Prepaid card\", \"Others\", \"Theft/Dispute reporting\", \"Mortgages/loans\"]"
   ]
  },
  {
   "cell_type": "code",
   "execution_count": 69,
   "metadata": {},
   "outputs": [
    {
     "name": "stdout",
     "output_type": "stream",
     "text": [
      "                            precision    recall  f1-score   support\n",
      "\n",
      "     Bank account services       0.91      0.94      0.93      1542\n",
      "Credit card / Prepaid card       0.91      0.94      0.93      1487\n",
      "                    Others       0.93      0.86      0.89       663\n",
      "   Theft/Dispute reporting       0.91      0.90      0.90      1464\n",
      "           Mortgages/loans       0.94      0.91      0.92      1166\n",
      "\n",
      "                  accuracy                           0.92      6322\n",
      "                 macro avg       0.92      0.91      0.91      6322\n",
      "              weighted avg       0.92      0.92      0.92      6322\n",
      "\n"
     ]
    }
   ],
   "source": [
    "# Print Classification Report\n",
    "print(classification_report(y_test, y_pred, target_names = topic_name))"
   ]
  },
  {
   "cell_type": "markdown",
   "metadata": {},
   "source": [
    "### 2. Decision Tree:"
   ]
  },
  {
   "cell_type": "code",
   "execution_count": 70,
   "metadata": {},
   "outputs": [],
   "source": [
    "# Importing DecisionTreeClassifier from sklearn\n",
    "from sklearn.tree import DecisionTreeClassifier"
   ]
  },
  {
   "cell_type": "code",
   "execution_count": 71,
   "metadata": {},
   "outputs": [],
   "source": [
    "# Train, Test Split\n",
    "X_train, X_test, y_train, y_test = train_test_split(X_train_tfidf, training_data['Topic'], test_size=0.25, random_state=42)"
   ]
  },
  {
   "cell_type": "code",
   "execution_count": 72,
   "metadata": {},
   "outputs": [],
   "source": [
    "dt_model = DecisionTreeClassifier(random_state=42).fit(X_train, y_train)"
   ]
  },
  {
   "cell_type": "code",
   "execution_count": 73,
   "metadata": {},
   "outputs": [
    {
     "data": {
      "text/plain": [
       "0.7822703113135915"
      ]
     },
     "execution_count": 73,
     "metadata": {},
     "output_type": "execute_result"
    }
   ],
   "source": [
    "# Getting the score of the base model\n",
    "dt_model.score(X_test, y_test)"
   ]
  },
  {
   "cell_type": "markdown",
   "metadata": {},
   "source": [
    "#### HyperParameter Tuning:"
   ]
  },
  {
   "cell_type": "code",
   "execution_count": 74,
   "metadata": {},
   "outputs": [],
   "source": [
    "dt_model_grid = {\"max_depth\": [3, 5, 10],\n",
    "           \"min_samples_split\": np.arange(2, 20, 4),\n",
    "           \"min_samples_leaf\": np.arange(1, 10, 2)}"
   ]
  },
  {
   "cell_type": "code",
   "execution_count": 75,
   "metadata": {},
   "outputs": [
    {
     "name": "stdout",
     "output_type": "stream",
     "text": [
      "Fitting 5 folds for each of 75 candidates, totalling 375 fits\n"
     ]
    }
   ],
   "source": [
    "# Setup grid hyperparameter search for LogisticRegression\n",
    "dt_model_hpt = GridSearchCV(DecisionTreeClassifier(random_state=42),\n",
    "                                param_grid=dt_model_grid,\n",
    "                                cv=5,\n",
    "                                verbose=True,\n",
    "                                n_jobs=-1)\n",
    "\n",
    "# Fit random hyperparameter search model\n",
    "dt_model_hpt.fit(X_train, y_train);"
   ]
  },
  {
   "cell_type": "code",
   "execution_count": 76,
   "metadata": {},
   "outputs": [
    {
     "data": {
      "text/plain": [
       "{'max_depth': 10, 'min_samples_leaf': 5, 'min_samples_split': 14}"
      ]
     },
     "execution_count": 76,
     "metadata": {},
     "output_type": "execute_result"
    }
   ],
   "source": [
    "# Check best parameters\n",
    "dt_model_hpt.best_params_"
   ]
  },
  {
   "cell_type": "markdown",
   "metadata": {},
   "source": [
    "#### Model Evaluation:"
   ]
  },
  {
   "cell_type": "code",
   "execution_count": 77,
   "metadata": {},
   "outputs": [
    {
     "data": {
      "text/plain": [
       "0.7668944570994685"
      ]
     },
     "execution_count": 77,
     "metadata": {},
     "output_type": "execute_result"
    }
   ],
   "source": [
    "# Evaluating the tuned model\n",
    "dt_model_hpt.score(X_test, y_test)"
   ]
  },
  {
   "cell_type": "code",
   "execution_count": 78,
   "metadata": {},
   "outputs": [],
   "source": [
    "# Make predictions on test data\n",
    "y_pred = dt_model_hpt.predict(X_test)"
   ]
  },
  {
   "cell_type": "code",
   "execution_count": 79,
   "metadata": {},
   "outputs": [
    {
     "name": "stdout",
     "output_type": "stream",
     "text": [
      "[[1046   75   32   58  107]\n",
      " [  47 1036   22   88   81]\n",
      " [  39   37  419   20   42]\n",
      " [ 158  127   23  750  149]\n",
      " [  48   20   35   20  789]]\n"
     ]
    }
   ],
   "source": [
    "# Print Confusion Matrix\n",
    "print(confusion_matrix(y_test, y_pred))"
   ]
  },
  {
   "cell_type": "code",
   "execution_count": 80,
   "metadata": {},
   "outputs": [
    {
     "name": "stdout",
     "output_type": "stream",
     "text": [
      "                            precision    recall  f1-score   support\n",
      "\n",
      "     Bank account services       0.78      0.79      0.79      1318\n",
      "Credit card / Prepaid card       0.80      0.81      0.81      1274\n",
      "                    Others       0.79      0.75      0.77       557\n",
      "   Theft/Dispute reporting       0.80      0.62      0.70      1207\n",
      "           Mortgages/loans       0.68      0.87      0.76       912\n",
      "\n",
      "                  accuracy                           0.77      5268\n",
      "                 macro avg       0.77      0.77      0.76      5268\n",
      "              weighted avg       0.77      0.77      0.77      5268\n",
      "\n"
     ]
    }
   ],
   "source": [
    "# Print Classification Report\n",
    "print(classification_report(y_test, y_pred, target_names = topic_name))"
   ]
  },
  {
   "cell_type": "markdown",
   "metadata": {},
   "source": [
    "### 3.Random Forest:"
   ]
  },
  {
   "cell_type": "code",
   "execution_count": 81,
   "metadata": {},
   "outputs": [],
   "source": [
    "# Importing Random Forest Classifier from sklearn\n",
    "from sklearn.ensemble import RandomForestClassifier"
   ]
  },
  {
   "cell_type": "code",
   "execution_count": 82,
   "metadata": {},
   "outputs": [],
   "source": [
    "# Train, Test Split\n",
    "X_train, X_test, y_train, y_test = train_test_split(X_train_tfidf, training_data['Topic'], test_size=0.25, random_state=42)"
   ]
  },
  {
   "cell_type": "code",
   "execution_count": 83,
   "metadata": {},
   "outputs": [],
   "source": [
    "rf_model = RandomForestClassifier(random_state=42).fit(X_train, y_train)"
   ]
  },
  {
   "cell_type": "code",
   "execution_count": 84,
   "metadata": {},
   "outputs": [
    {
     "data": {
      "text/plain": [
       "0.8141609719058466"
      ]
     },
     "execution_count": 84,
     "metadata": {},
     "output_type": "execute_result"
    }
   ],
   "source": [
    "# Getting the score of the base model\n",
    "rf_model.score(X_test, y_test)"
   ]
  },
  {
   "cell_type": "markdown",
   "metadata": {},
   "source": [
    "#### HyperParameter Tuning:"
   ]
  },
  {
   "cell_type": "code",
   "execution_count": 85,
   "metadata": {},
   "outputs": [],
   "source": [
    "rf_model_grid = {\"n_estimators\": np.arange(10, 400, 50),\n",
    "           \"max_depth\": [3, 5, 10],\n",
    "           \"min_samples_split\": np.arange(2, 20, 4),\n",
    "           \"min_samples_leaf\": np.arange(1, 10, 2)}"
   ]
  },
  {
   "cell_type": "code",
   "execution_count": 86,
   "metadata": {},
   "outputs": [
    {
     "name": "stdout",
     "output_type": "stream",
     "text": [
      "Fitting 5 folds for each of 10 candidates, totalling 50 fits\n"
     ]
    }
   ],
   "source": [
    "# Setup random hyperparameter search for Random Forest Classifier\n",
    "rf_model_hpt = RandomizedSearchCV(RandomForestClassifier(random_state=42),\n",
    "                                param_distributions=rf_model_grid,\n",
    "                                cv=5,\n",
    "                                verbose=True,\n",
    "                                n_jobs=-1)\n",
    "\n",
    "# Fit random hyperparameter search model\n",
    "rf_model_hpt.fit(X_train, y_train);"
   ]
  },
  {
   "cell_type": "code",
   "execution_count": 87,
   "metadata": {},
   "outputs": [
    {
     "data": {
      "text/plain": [
       "{'n_estimators': 310,\n",
       " 'min_samples_split': 10,\n",
       " 'min_samples_leaf': 7,\n",
       " 'max_depth': 10}"
      ]
     },
     "execution_count": 87,
     "metadata": {},
     "output_type": "execute_result"
    }
   ],
   "source": [
    "# Check best parameters\n",
    "rf_model_hpt.best_params_"
   ]
  },
  {
   "cell_type": "markdown",
   "metadata": {},
   "source": [
    "#### Model Evaluation:"
   ]
  },
  {
   "cell_type": "code",
   "execution_count": 88,
   "metadata": {},
   "outputs": [
    {
     "data": {
      "text/plain": [
       "0.7334851936218679"
      ]
     },
     "execution_count": 88,
     "metadata": {},
     "output_type": "execute_result"
    }
   ],
   "source": [
    "# Evaluating the tuned model\n",
    "rf_model_hpt.score(X_test, y_test)"
   ]
  },
  {
   "cell_type": "code",
   "execution_count": 89,
   "metadata": {},
   "outputs": [],
   "source": [
    "# Make predictions on test data\n",
    "y_pred = rf_model_hpt.predict(X_test)"
   ]
  },
  {
   "cell_type": "code",
   "execution_count": 90,
   "metadata": {},
   "outputs": [
    {
     "name": "stdout",
     "output_type": "stream",
     "text": [
      "[[1217   85    0   12    4]\n",
      " [  70 1115    0   86    3]\n",
      " [ 154  215    8   85   95]\n",
      " [ 188  156    0  857    6]\n",
      " [  92  136    0   17  667]]\n"
     ]
    }
   ],
   "source": [
    "# Print Confusion Matrix\n",
    "print(confusion_matrix(y_test, y_pred))"
   ]
  },
  {
   "cell_type": "code",
   "execution_count": 91,
   "metadata": {},
   "outputs": [
    {
     "name": "stdout",
     "output_type": "stream",
     "text": [
      "                            precision    recall  f1-score   support\n",
      "\n",
      "     Bank account services       0.71      0.92      0.80      1318\n",
      "Credit card / Prepaid card       0.65      0.88      0.75      1274\n",
      "                    Others       1.00      0.01      0.03       557\n",
      "   Theft/Dispute reporting       0.81      0.71      0.76      1207\n",
      "           Mortgages/loans       0.86      0.73      0.79       912\n",
      "\n",
      "                  accuracy                           0.73      5268\n",
      "                 macro avg       0.81      0.65      0.63      5268\n",
      "              weighted avg       0.78      0.73      0.69      5268\n",
      "\n"
     ]
    }
   ],
   "source": [
    "# Print Classification Report\n",
    "print(classification_report(y_test, y_pred, target_names = topic_name))"
   ]
  },
  {
   "cell_type": "markdown",
   "metadata": {},
   "source": [
    "### Overall Results:"
   ]
  },
  {
   "cell_type": "markdown",
   "metadata": {},
   "source": [
    "###### Based on the above results, Logistic Regression is the best model with an accuracy of 91.6% with Precision and Recall as 92% and 92% respectively"
   ]
  },
  {
   "cell_type": "code",
   "execution_count": 1,
   "metadata": {},
   "outputs": [],
   "source": [
    "import re, nltk, spacy, string"
   ]
  },
  {
   "cell_type": "code",
   "execution_count": null,
   "metadata": {},
   "outputs": [],
   "source": []
  }
 ],
 "metadata": {
  "colab": {
   "collapsed_sections": [
    "T9jD_6SeJrF3",
    "5DfCSbbmJrF4",
    "yYzD85nTJrGA",
    "piyLxzj6v07j",
    "280Vbqk-7a8M"
   ],
   "provenance": []
  },
  "kernelspec": {
   "display_name": "Python 3 (ipykernel)",
   "language": "python",
   "name": "python3"
  },
  "language_info": {
   "codemirror_mode": {
    "name": "ipython",
    "version": 3
   },
   "file_extension": ".py",
   "mimetype": "text/x-python",
   "name": "python",
   "nbconvert_exporter": "python",
   "pygments_lexer": "ipython3",
   "version": "3.7.16"
  }
 },
 "nbformat": 4,
 "nbformat_minor": 1
}
